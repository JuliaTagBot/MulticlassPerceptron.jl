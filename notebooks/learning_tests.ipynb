{
 "cells": [
  {
   "cell_type": "code",
   "execution_count": 1,
   "metadata": {},
   "outputs": [
    {
     "name": "stderr",
     "output_type": "stream",
     "text": [
      "┌ Info: Recompiling stale cache file /Users/davidbuchaca1/.julia/compiled/v1.1/PyPlot/oatAj.ji for PyPlot [d330b81b-6aea-500a-939a-2ce795aea3ee]\n",
      "└ @ Base loading.jl:1184\n"
     ]
    }
   ],
   "source": [
    "using Random\n",
    "using PyPlot"
   ]
  },
  {
   "cell_type": "markdown",
   "metadata": {},
   "source": [
    "# Basics of random number generation"
   ]
  },
  {
   "cell_type": "code",
   "execution_count": 2,
   "metadata": {},
   "outputs": [
    {
     "data": {
      "text/plain": [
       "normal_sample (generic function with 1 method)"
      ]
     },
     "execution_count": 2,
     "metadata": {},
     "output_type": "execute_result"
    }
   ],
   "source": [
    "uniform_sample_in_zero_maxval(n_features, maxval) = maxval .* (1 .- rand(n_features)) \n",
    "\n",
    "uniform_sample_in_minval_maxval(n_features, minval, maxval) = (maxval-minval) .* rand(n_features) .+ minval \n",
    "\n",
    "# x=rand() is a sample from N(0,1) =>  x2 = mu + sqrt(std)*rand() is a sample from  N(mu, std)\n",
    "normal_sample(n_features, mu, var) = mu .+ sqrt(var) .* randn(n_features)"
   ]
  },
  {
   "cell_type": "code",
   "execution_count": 3,
   "metadata": {
    "scrolled": true
   },
   "outputs": [
    {
     "data": {
      "text/plain": [
       "2-element Array{Float64,1}:\n",
       " 3.4150558588551116\n",
       " 2.9451189077022466"
      ]
     },
     "execution_count": 3,
     "metadata": {},
     "output_type": "execute_result"
    }
   ],
   "source": [
    "maxval = 10\n",
    "n_features = 2\n",
    "uniform_sample_in_zero_maxval(n_features, maxval)"
   ]
  },
  {
   "cell_type": "code",
   "execution_count": 4,
   "metadata": {},
   "outputs": [
    {
     "data": {
      "text/plain": [
       "2-element Array{Float64,1}:\n",
       " 0.2295173594460167\n",
       " 1.2587911446353377"
      ]
     },
     "execution_count": 4,
     "metadata": {},
     "output_type": "execute_result"
    }
   ],
   "source": [
    "maxval = 3\n",
    "uniform_sample_in_zero_maxval(n_features, maxval)"
   ]
  },
  {
   "cell_type": "code",
   "execution_count": 5,
   "metadata": {},
   "outputs": [
    {
     "data": {
      "text/plain": [
       "2-element Array{Float64,1}:\n",
       " 3.6317041441121347\n",
       " 5.603982582394908 "
      ]
     },
     "execution_count": 5,
     "metadata": {},
     "output_type": "execute_result"
    }
   ],
   "source": [
    "minval = 2\n",
    "maxval = 10\n",
    "\n",
    "uniform_sample_in_minval_maxval(n_features ,minval, maxval)"
   ]
  },
  {
   "cell_type": "markdown",
   "metadata": {},
   "source": [
    "# Blob generator"
   ]
  },
  {
   "cell_type": "code",
   "execution_count": 369,
   "metadata": {},
   "outputs": [],
   "source": [
    "using BenchmarkTools\n",
    "\n"
   ]
  },
  {
   "cell_type": "code",
   "execution_count": 370,
   "metadata": {},
   "outputs": [
    {
     "data": {
      "text/plain": [
       "make_blobs"
      ]
     },
     "execution_count": 370,
     "metadata": {},
     "output_type": "execute_result"
    }
   ],
   "source": [
    "# make blobs\n",
    "\n",
    "\"\"\"\n",
    "    make_blobs(n_examples=100; \n",
    "               n_features=2, \n",
    "               centers=3, \n",
    "               cluster_std=1.0, \n",
    "               center_box=(-10.,10.),\n",
    "               element_type=Float64,\n",
    "               random_seed=1234,\n",
    "               return_centers=false)\n",
    "               \n",
    "     Generates a dataset with `n_examples` of dimension `n_features` and returns a vector containing\n",
    "     as integers the membership of the different points generated.\n",
    "\n",
    "     The data is roughly grouped around several `centers`  which are created using `cluster_std`. \n",
    "     The data lives inside `center_box` in the case it is randomly generated.\n",
    "     \n",
    "     - If `centers` is an integer the centroids are created randomly.    \n",
    "     - If `centers` is an Array containing points the centroids are picked from `centers`.\n",
    "     - If `return_centers=true` the centroids of the bloods are returned\n",
    "\n",
    "\"\"\"\n",
    "function make_blobs(n_examples=100; n_features=2, \n",
    "                    centers=3, cluster_std=1.0, center_box=(-10.,10.),\n",
    "                    element_type=Float64, random_seed=1234, return_centers=false)\n",
    "\n",
    "    Random.seed!(random_seed)\n",
    "\n",
    "    X = [] \n",
    "    y = []\n",
    "\n",
    "    if typeof(centers)<: Int\n",
    "        n_centers = centers\n",
    "        centers = []\n",
    "        for c in 1:n_centers\n",
    "            center_sample = uniform_sample_in_minval_maxval(n_features, center_box[1], center_box[2])\n",
    "            push!(centers, center_sample)\n",
    "        end\n",
    "    else\n",
    "        n_centers = length(centers)\n",
    "    end\n",
    "\n",
    "    if typeof(cluster_std)<: AbstractFloat\n",
    "        cluster_std = 0.5 * randn(n_centers)\n",
    "    end\n",
    "    \n",
    "    # generates the nunber of example for each center\n",
    "    n_examples_per_center = [div(n_examples, n_centers) for x  in 1:n_centers]\n",
    "    for i in 1:(n_examples % n_centers)\n",
    "        n_examples_per_center[i] += 1\n",
    "    end\n",
    "\n",
    "    # generates the actual vectors close to each center blob \n",
    "    for (i, (n, std, center)) in enumerate(zip(n_examples_per_center, cluster_std, centers))\n",
    "        X_current = center' .+ std .* randn(element_type, (n, n_features))\n",
    "        push!(X, X_current)\n",
    "        push!(y, [i for k in 1:n]) \n",
    "    end\n",
    "\n",
    "    # stack all the previous arrays created for each of the centers\n",
    "    X = cat(X..., dims=1)\n",
    "    y = cat(y..., dims=1)\n",
    "    \n",
    "    if return_centers\n",
    "        return X, y, centers  \n",
    "    else\n",
    "        return X, y\n",
    "    end\n",
    "end"
   ]
  },
  {
   "cell_type": "code",
   "execution_count": 371,
   "metadata": {},
   "outputs": [
    {
     "name": "stdout",
     "output_type": "stream",
     "text": [
      "  42.991 μs (209 allocations: 14.72 KiB)\n"
     ]
    },
    {
     "data": {
      "text/plain": [
       "([6.33292 3.16605; 6.28889 3.12579; … ; 0.75025 -4.07654; -0.481265 -5.60262], [1, 1, 1, 1, 1, 1, 1, 1, 1, 1  …  3, 3, 3, 3, 3, 3, 3, 3, 3, 3], Any[[6.24877, 3.09955], [-0.207732, -8.42481], [1.63181, -4.83893]])"
      ]
     },
     "execution_count": 371,
     "metadata": {},
     "output_type": "execute_result"
    }
   ],
   "source": [
    "@btime X, y, c = make_blobs(100; centers=3, random_seed=7, return_centers=true)\n"
   ]
  },
  {
   "cell_type": "code",
   "execution_count": 8,
   "metadata": {
    "scrolled": true
   },
   "outputs": [
    {
     "data": {
      "text/plain": [
       "3-element Array{Any,1}:\n",
       " [6.24877, 3.09955]   \n",
       " [-0.207732, -8.42481]\n",
       " [1.63181, -4.83893]  "
      ]
     },
     "execution_count": 8,
     "metadata": {},
     "output_type": "execute_result"
    }
   ],
   "source": [
    "c"
   ]
  },
  {
   "cell_type": "code",
   "execution_count": 11,
   "metadata": {},
   "outputs": [
    {
     "data": {
      "image/png": "[encoded data removed]",
      "text/plain": [
       "Figure(PyObject <Figure size 500x500 with 1 Axes>)"
      ]
     },
     "metadata": {},
     "output_type": "display_data"
    },
    {
     "data": {
      "text/plain": [
       "PyObject <matplotlib.legend.Legend object at 0x7f98e1200c88>"
      ]
     },
     "execution_count": 11,
     "metadata": {},
     "output_type": "execute_result"
    }
   ],
   "source": [
    "\n",
    "X1 = X[y.==1,:]\n",
    "X2 = X[y.==2,:]\n",
    "X3 = X[y.==3,:]\n",
    "\n",
    "fig = figure(figsize=(5,5))\n",
    "title(\"Plotting Blobs\")\n",
    "R = scatter(X1[:,1],X1[:,2],color=\"red\",   label = \"center 1\", s = 30)\n",
    "G = scatter(X2[:,1],X2[:,2],color=\"blue\",  label = \"center 2\", s = 30)\n",
    "B = scatter(X3[:,1],X3[:,2],color=\"green\", label = \"center 3\", s = 30)\n",
    "legend(loc=\"right\")\n",
    "#savefig(\"blobs.pdf\")  "
   ]
  },
  {
   "cell_type": "code",
   "execution_count": 293,
   "metadata": {},
   "outputs": [
    {
     "data": {
      "text/plain": [
       "shuffle_Xy (generic function with 1 method)"
      ]
     },
     "execution_count": 293,
     "metadata": {},
     "output_type": "execute_result"
    }
   ],
   "source": [
    "function shuffle_Xy(X, y; random_seed=1234)\n",
    "    Random.seed!(random_seed)\n",
    "    perm = randperm(length(y))\n",
    "    return X[perm,:], y[perm]\n",
    "end"
   ]
  },
  {
   "cell_type": "code",
   "execution_count": 338,
   "metadata": {},
   "outputs": [
    {
     "name": "stdout",
     "output_type": "stream",
     "text": [
      "34"
     ]
    }
   ],
   "source": [
    "n_per_center\n",
    "k=3\n",
    "print(\"$(n_per_center[k])\")"
   ]
  },
  {
   "cell_type": "code",
   "execution_count": 362,
   "metadata": {
    "scrolled": false
   },
   "outputs": [
    {
     "data": {
      "text/plain": [
       "make_blobs2 (generic function with 2 methods)"
      ]
     },
     "execution_count": 362,
     "metadata": {},
     "output_type": "execute_result"
    }
   ],
   "source": [
    "function make_blobs2(n::Int=100; p::Int=2,\n",
    "                    shuffle::Bool=false, centers=3, cluster_std::Real=1.0, center_box=(-10.,10.),\n",
    "                    element_type=Float64, random_seed=1234, return_centers=false, verbose=0)\n",
    "\n",
    "    Random.seed!(random_seed)\n",
    "\n",
    "    X = []\n",
    "    y = []\n",
    "\n",
    "    if typeof(centers) <: Int\n",
    "        n_centers = centers\n",
    "        centers = []\n",
    "        for c in 1:n_centers\n",
    "            center_sample = uniform_sample_in_minval_maxval(p, center_box[1], center_box[2])\n",
    "            push!(centers, center_sample)\n",
    "        end\n",
    "    else\n",
    "        n_centers = length(centers)\n",
    "    end\n",
    "\n",
    "    if typeof(cluster_std) <: AbstractFloat\n",
    "        cluster_std = cluster_std * randn(n_centers)\n",
    "    end\n",
    "\n",
    "    # generates div(n, n_centers) examples assigned to each center\n",
    "    n_per_center = [div(n, n_centers) for x  in 1:n_centers]\n",
    "\n",
    "    # adds the reamainding examples to each center up to n\n",
    "    n_per_center = fill(div(n,n_centers), n_centers)\n",
    "    n_per_center[end] += rem(n,n_centers)\n",
    "\n",
    "    # generates the actual vectors close to each center blob\n",
    "    X = zeros(n, p)\n",
    "    y = zeros(n)\n",
    "\n",
    "    start_ind = 1\n",
    "    for (i, (n_blob, std, center)) in enumerate(zip(n_per_center, cluster_std, centers))\n",
    "        ind_center = start_ind:(start_ind + n_per_center[i]-1)\n",
    "        X[ind_center,:] .= center' .+ std .* randn(element_type, (n_per_center[i], p));\n",
    "        y[ind_center] .= i\n",
    "        if verbose>0\n",
    "            println(\"center $i with $(n_per_center[i]) points created\")\n",
    "        end\n",
    "        start_ind += n_per_center[i]\n",
    "    end\n",
    "\n",
    "    if shuffle\n",
    "       X, y = shuffle_Xy(X, y ; random_seed=random_seed)\n",
    "    end\n",
    "\n",
    "    if return_centers\n",
    "        return X, y, centers\n",
    "    else\n",
    "        return X, y\n",
    "    end\n",
    "end"
   ]
  },
  {
   "cell_type": "code",
   "execution_count": 367,
   "metadata": {},
   "outputs": [
    {
     "name": "stderr",
     "output_type": "stream",
     "text": [
      "┌ Info: Recompiling stale cache file /Users/davidbuchaca1/.julia/compiled/v1.1/BenchmarkTools/ZXPQo.ji for BenchmarkTools [6e4b80f9-dd63-53aa-95a3-0cdb28fa8baf]\n",
      "└ @ Base loading.jl:1184\n",
      "┌ Warning: Module JSON with build ID 34420740956980 is missing from the cache.\n",
      "│ This may mean JSON [682c06a0-de6a-54ab-a142-c8b1cf79cde6] does not support precompilation but is imported by a module that does.\n",
      "└ @ Base loading.jl:947\n"
     ]
    },
    {
     "name": "stdout",
     "output_type": "stream",
     "text": [
      "  25.059 μs (113 allocations: 8.67 KiB)\n"
     ]
    },
    {
     "data": {
      "text/plain": [
       "([0.37752 4.45575; -0.188931 4.76348; … ; 6.739 0.612116; 6.82295 0.504707], [1.0, 1.0, 1.0, 1.0, 1.0, 1.0, 1.0, 1.0, 1.0, 1.0  …  3.0, 3.0, 3.0, 3.0, 3.0, 3.0, 3.0, 3.0, 3.0, 3.0])"
      ]
     },
     "execution_count": 367,
     "metadata": {},
     "output_type": "execute_result"
    }
   ],
   "source": [
    "@btime X, y= make_blobs2(100; centers=3, random_seed=5, return_centers=false)"
   ]
  },
  {
   "cell_type": "code",
   "execution_count": 361,
   "metadata": {},
   "outputs": [
    {
     "data": {
      "image/png": "[encoded data removed]",
      "text/plain": [
       "Figure(PyObject <Figure size 500x500 with 1 Axes>)"
      ]
     },
     "metadata": {},
     "output_type": "display_data"
    },
    {
     "data": {
      "text/plain": [
       "PyObject <matplotlib.legend.Legend object at 0x7f993124c1d0>"
      ]
     },
     "execution_count": 361,
     "metadata": {},
     "output_type": "execute_result"
    }
   ],
   "source": [
    "\n",
    "X1 = X[y.==1,:]\n",
    "X2 = X[y.==2,:]\n",
    "X3 = X[y.==3,:]\n",
    "\n",
    "fig = figure(figsize=(5,5))\n",
    "title(\"Plotting Blobs\")\n",
    "R = scatter(X1[:,1],X1[:,2],color=\"red\",   label = \"center 1\", s = 30)\n",
    "G = scatter(X2[:,1],X2[:,2],color=\"blue\",  label = \"center 2\", s = 30)\n",
    "B = scatter(X3[:,1],X3[:,2],color=\"green\", label = \"center 3\", s = 30)\n",
    "legend(loc=\"right\")\n",
    "#savefig(\"blobs.pdf\")  "
   ]
  },
  {
   "cell_type": "code",
   "execution_count": null,
   "metadata": {},
   "outputs": [],
   "source": []
  },
  {
   "cell_type": "code",
   "execution_count": null,
   "metadata": {},
   "outputs": [],
   "source": []
  },
  {
   "cell_type": "code",
   "execution_count": 277,
   "metadata": {},
   "outputs": [
    {
     "data": {
      "text/plain": [
       "(-10.0, 10.0)"
      ]
     },
     "execution_count": 277,
     "metadata": {},
     "output_type": "execute_result"
    }
   ],
   "source": [
    "centers = 3\n",
    "p=2\n",
    "center_box=(-10.,10.)"
   ]
  },
  {
   "cell_type": "code",
   "execution_count": 278,
   "metadata": {},
   "outputs": [],
   "source": [
    "if typeof(centers) <: Int\n",
    "        n_centers = centers\n",
    "        centers = []\n",
    "        for c in 1:n_centers\n",
    "            center_sample = uniform_sample_in_minval_maxval(p, center_box[1], center_box[2])\n",
    "            push!(centers, center_sample)\n",
    "        end\n",
    "    else\n",
    "        n_centers = length(centers)\n",
    "    end"
   ]
  },
  {
   "cell_type": "code",
   "execution_count": 267,
   "metadata": {},
   "outputs": [
    {
     "data": {
      "text/plain": [
       "3-element Array{Any,1}:\n",
       " [-7.83917, -5.63958]\n",
       " [-1.07545, 1.06716] \n",
       " [5.49544, -8.63184] "
      ]
     },
     "execution_count": 267,
     "metadata": {},
     "output_type": "execute_result"
    }
   ],
   "source": [
    "centers"
   ]
  },
  {
   "cell_type": "code",
   "execution_count": 270,
   "metadata": {},
   "outputs": [
    {
     "data": {
      "text/plain": [
       "2-element Array{Float64,1}:\n",
       " -7.839172088318724\n",
       " -5.639578002860195"
      ]
     },
     "execution_count": 270,
     "metadata": {},
     "output_type": "execute_result"
    }
   ],
   "source": [
    "centers[1]"
   ]
  },
  {
   "cell_type": "code",
   "execution_count": 272,
   "metadata": {},
   "outputs": [
    {
     "data": {
      "text/plain": [
       "1:33"
      ]
     },
     "execution_count": 272,
     "metadata": {},
     "output_type": "execute_result"
    }
   ],
   "source": [
    "ind_center = 1:n_per_center[1]"
   ]
  },
  {
   "cell_type": "code",
   "execution_count": 275,
   "metadata": {},
   "outputs": [
    {
     "data": {
      "text/plain": [
       "33×2 Array{Float64,2}:\n",
       " 0.0  0.0\n",
       " 0.0  0.0\n",
       " 0.0  0.0\n",
       " 0.0  0.0\n",
       " 0.0  0.0\n",
       " 0.0  0.0\n",
       " 0.0  0.0\n",
       " 0.0  0.0\n",
       " 0.0  0.0\n",
       " 0.0  0.0\n",
       " 0.0  0.0\n",
       " 0.0  0.0\n",
       " 0.0  0.0\n",
       " ⋮       \n",
       " 0.0  0.0\n",
       " 0.0  0.0\n",
       " 0.0  0.0\n",
       " 0.0  0.0\n",
       " 0.0  0.0\n",
       " 0.0  0.0\n",
       " 0.0  0.0\n",
       " 0.0  0.0\n",
       " 0.0  0.0\n",
       " 0.0  0.0\n",
       " 0.0  0.0\n",
       " 0.0  0.0"
      ]
     },
     "execution_count": 275,
     "metadata": {},
     "output_type": "execute_result"
    }
   ],
   "source": [
    "X  = zeros(n, p)\n",
    "X[ind_center,:] .= centers[1] .+ 0.3 "
   ]
  },
  {
   "cell_type": "code",
   "execution_count": null,
   "metadata": {},
   "outputs": [],
   "source": []
  },
  {
   "cell_type": "code",
   "execution_count": null,
   "metadata": {},
   "outputs": [],
   "source": []
  },
  {
   "cell_type": "code",
   "execution_count": 223,
   "metadata": {},
   "outputs": [],
   "source": [
    "X = zeros(n,p);"
   ]
  },
  {
   "cell_type": "code",
   "execution_count": 224,
   "metadata": {},
   "outputs": [
    {
     "name": "stdout",
     "output_type": "stream",
     "text": [
      "33    1   1:33"
     ]
    }
   ],
   "source": [
    "i = 1\n",
    "p = 1\n",
    "print(length(p:p+n_per_center[i]-1), \"    \", i, \"   \",p:p+n_per_center[i]-1)\n",
    "p += n_per_center[i];"
   ]
  },
  {
   "cell_type": "code",
   "execution_count": 225,
   "metadata": {
    "scrolled": true
   },
   "outputs": [
    {
     "name": "stdout",
     "output_type": "stream",
     "text": [
      "33    2   34:66"
     ]
    }
   ],
   "source": [
    "i = 2\n",
    "print(length(p:p+n_per_center[i]-1), \"    \", i, \"   \",p:p+n_per_center[i]-1)\n",
    "p += n_per_center[i];"
   ]
  },
  {
   "cell_type": "code",
   "execution_count": 226,
   "metadata": {},
   "outputs": [
    {
     "name": "stdout",
     "output_type": "stream",
     "text": [
      "34    3   67:100"
     ]
    }
   ],
   "source": [
    "i = 3\n",
    "print(length(p:p+n_per_center[i]-1), \"    \", i, \"   \",p:p+n_per_center[i]-1)\n",
    "p += n_per_center[i];"
   ]
  },
  {
   "cell_type": "code",
   "execution_count": 229,
   "metadata": {},
   "outputs": [],
   "source": [
    "X = zeros(100,2);"
   ]
  },
  {
   "cell_type": "code",
   "execution_count": 231,
   "metadata": {},
   "outputs": [],
   "source": [
    "X[1:20,:] = randn(Float64, (20, 2));"
   ]
  },
  {
   "cell_type": "code",
   "execution_count": null,
   "metadata": {},
   "outputs": [],
   "source": []
  },
  {
   "cell_type": "code",
   "execution_count": null,
   "metadata": {},
   "outputs": [],
   "source": []
  },
  {
   "cell_type": "code",
   "execution_count": null,
   "metadata": {},
   "outputs": [],
   "source": []
  },
  {
   "cell_type": "markdown",
   "metadata": {},
   "source": [
    "# Circles generator\n",
    "\n",
    "Make a circle containing another circle in 2d (mmake a ring with a ball inside).\n",
    "\n",
    "\n"
   ]
  },
  {
   "cell_type": "code",
   "execution_count": 74,
   "metadata": {},
   "outputs": [
    {
     "data": {
      "text/plain": [
       "linspace"
      ]
     },
     "execution_count": 74,
     "metadata": {},
     "output_type": "execute_result"
    }
   ],
   "source": [
    "\"\"\"\n",
    "    Return evenly spaced numbers over a specified interval.\n",
    "    \n",
    "    Returns `num` evenly spaced samples, calculated over the\n",
    "    interval [`start`, `stop`].\n",
    "    \n",
    "    The endpoint of the interval can optionally be excluded.\n",
    "\n",
    "\"\"\"\n",
    "function linspace(start, stop; num=50, endpoint=true, retstep=false)\n",
    "    dif  = stop-start\n",
    "    step = dif/num\n",
    "    result = []\n",
    "       \n",
    "    if endpoint \n",
    "        for i in 1:num\n",
    "            push!(result, start+i*step)\n",
    "        end\n",
    "    else\n",
    "        for i in 1:num\n",
    "            push!(result, start+(i-1)*step)\n",
    "        end\n",
    "    end\n",
    "    return result\n",
    "    \n",
    "end"
   ]
  },
  {
   "cell_type": "code",
   "execution_count": 75,
   "metadata": {},
   "outputs": [
    {
     "data": {
      "text/plain": [
       "make_circles"
      ]
     },
     "execution_count": 75,
     "metadata": {},
     "output_type": "execute_result"
    }
   ],
   "source": [
    "\"\"\"\n",
    "Shuffles the rows of an Array `X` and the values of a vector `y` using a randomly\n",
    "generated permutation. The same permutation is used to shuffle both `X` and `y`.\n",
    "\"\"\"\n",
    "function shuffle_Xy(X, y; random_seed=1234)\n",
    "    Random.seed!(random_seed)\n",
    "    perm = randperm(length(y))\n",
    "    return X[perm,:], y[perm]\n",
    "end\n",
    "\n",
    "\n",
    "\"\"\"\n",
    "    make_circles(n=100; shuffle=true, noise=0., random_seed=1234, factor=0.8)\n",
    "    \n",
    "    Generates a dataset with `n` bi-dimensional examples. Samples are created \n",
    "    from two circles. One of the circles inside the other. The `noise` scalar\n",
    "    can be used to add noise to the generation process. The scalar `factor` \n",
    "    can be used to make the radious of the smallest circle smaller.\n",
    "\n",
    "\"\"\"\n",
    "function make_circles(n=100; shuffle=true, noise=0., random_seed=1234, factor=0.8)\n",
    "    \n",
    "    @assert 0 <= factor <=1  #factor in [0,1] \n",
    "\n",
    "    n_out = div(n, 2)\n",
    "    n_in = n - n_out\n",
    "     \n",
    "    linspace_out = linspace(0, 2 * pi; num=n_out, endpoint=false)\n",
    "    linspace_in  = linspace(0, 2 * pi; num=n_in, endpoint=false)\n",
    "\n",
    "    outer_circ_x = cos.(linspace_out)\n",
    "    outer_circ_y = sin.(linspace_out)\n",
    "    inner_circ_x = cos.(linspace_in) .* factor\n",
    "    inner_circ_y = sin.(linspace_in) .* factor\n",
    "    \n",
    "    X = [[outer_circ_x..., inner_circ_x...] [outer_circ_y..., inner_circ_y...]]\n",
    "    y = [ones(Int,n_out)..., 2*ones(Int,n_in)...]\n",
    "\n",
    "    if shuffle\n",
    "       X, y = shuffle_Xy(X, y ; random_seed=random_seed)\n",
    "    end\n",
    "    \n",
    "    if noise >0.\n",
    "        X .= X .+ noise.* rand(size(X)...)\n",
    "    end\n",
    "\n",
    "    return X,y\n",
    "end"
   ]
  },
  {
   "cell_type": "code",
   "execution_count": 76,
   "metadata": {},
   "outputs": [
    {
     "data": {
      "text/plain": [
       "10-element Array{Any,1}:\n",
       " 0.0               \n",
       " 0.6283185307179586\n",
       " 1.2566370614359172\n",
       " 1.8849555921538759\n",
       " 2.5132741228718345\n",
       " 3.141592653589793 \n",
       " 3.7699111843077517\n",
       " 4.39822971502571  \n",
       " 5.026548245743669 \n",
       " 5.654866776461628 "
      ]
     },
     "execution_count": 76,
     "metadata": {},
     "output_type": "execute_result"
    }
   ],
   "source": [
    "n_out = 10\n",
    "linspace(0, 2 * pi; num=n_out, endpoint=false)"
   ]
  },
  {
   "cell_type": "code",
   "execution_count": 77,
   "metadata": {},
   "outputs": [
    {
     "name": "stdout",
     "output_type": "stream",
     "text": [
      "search: \u001b[0m\u001b[1mf\u001b[22m\u001b[0m\u001b[1mi\u001b[22m\u001b[0m\u001b[1ml\u001b[22m\u001b[0m\u001b[1ml\u001b[22m \u001b[0m\u001b[1mf\u001b[22m\u001b[0m\u001b[1mi\u001b[22m\u001b[0m\u001b[1ml\u001b[22m\u001b[0m\u001b[1ml\u001b[22m! \u001b[0m\u001b[1mf\u001b[22m\u001b[0m\u001b[1mi\u001b[22m\u001b[0m\u001b[1ml\u001b[22m\u001b[0m\u001b[1ml\u001b[22m_between \u001b[0m\u001b[1mf\u001b[22m\u001b[0m\u001b[1mi\u001b[22m\u001b[0m\u001b[1ml\u001b[22m\u001b[0m\u001b[1ml\u001b[22m_betweenx \u001b[0m\u001b[1mf\u001b[22m\u001b[0m\u001b[1mi\u001b[22mna\u001b[0m\u001b[1ml\u001b[22m\u001b[0m\u001b[1ml\u001b[22my \u001b[0m\u001b[1mf\u001b[22m\u001b[0m\u001b[1mi\u001b[22mnda\u001b[0m\u001b[1ml\u001b[22m\u001b[0m\u001b[1ml\u001b[22m get_\u001b[0m\u001b[1mf\u001b[22m\u001b[0m\u001b[1mi\u001b[22mg\u001b[0m\u001b[1ml\u001b[22mabe\u001b[0m\u001b[1ml\u001b[22ms\n",
      "\n"
     ]
    },
    {
     "data": {
      "text/plain": [
       "2-element Array{Any,1}:\n",
       " ```\n",
       "fill(x, dims)\n",
       "```\n",
       "\n",
       "Create an array filled with the value `x`. For example, `fill(1.0, (5,5))` returns a 5×5 array of floats, with each element initialized to `1.0`.\n",
       "\n",
       "# Examples\n",
       "\n",
       "```jldoctest\n",
       "julia> fill(1.0, (5,5))\n",
       "5×5 Array{Float64,2}:\n",
       " 1.0  1.0  1.0  1.0  1.0\n",
       " 1.0  1.0  1.0  1.0  1.0\n",
       " 1.0  1.0  1.0  1.0  1.0\n",
       " 1.0  1.0  1.0  1.0  1.0\n",
       " 1.0  1.0  1.0  1.0  1.0\n",
       "```\n",
       "\n",
       "If `x` is an object reference, all elements will refer to the same object. `fill(Foo(), dims)` will return an array filled with the result of evaluating `Foo()` once.\n",
       "                                                                                                                                                                                                                                                                                                                                                                                                                                                                                                                                                                                                                                                                                                                                                                                                                                                                                                                                                                                             \n",
       " \n",
       "        Plot filled polygons.\n",
       "\n",
       "        Parameters\n",
       "        ----------\n",
       "        *args : sequence of x, y, [color]\n",
       "            Each polygon is defined by the lists of *x* and *y* positions of\n",
       "            its nodes, optionally followed by a *color* specifier. See\n",
       "            :mod:`matplotlib.colors` for supported color specifiers. The\n",
       "            standard color cycle is used for polygons without a color\n",
       "            specifier.\n",
       "\n",
       "            You can plot multiple polygons by providing multiple *x*, *y*,\n",
       "            *[color]* groups.\n",
       "\n",
       "            For example, each of the following is legal::\n",
       "\n",
       "                ax.fill(x, y)                    # a polygon with default color\n",
       "                ax.fill(x, y, \"b\")               # a blue polygon\n",
       "                ax.fill(x, y, x2, y2)            # two polygons\n",
       "                ax.fill(x, y, \"b\", x2, y2, \"r\")  # a blue and a red polygon\n",
       "\n",
       "        data : indexable object, optional\n",
       "            An object with labelled data. If given, provide the label names to\n",
       "            plot in *x* and *y*, e.g.::\n",
       "\n",
       "                ax.fill(\"time\", \"signal\",\n",
       "                        data={\"time\": [0, 1, 2], \"signal\": [0, 1, 0]})\n",
       "\n",
       "        Returns\n",
       "        -------\n",
       "        a list of :class:`~matplotlib.patches.Polygon`\n",
       "\n",
       "        Other Parameters\n",
       "        ----------------\n",
       "        **kwargs : :class:`~matplotlib.patches.Polygon` properties\n",
       "\n",
       "        Notes\n",
       "        -----\n",
       "        Use :meth:`fill_between` if you would like to fill the region between\n",
       "        two curves.\n",
       "        "
      ]
     },
     "execution_count": 77,
     "metadata": {},
     "output_type": "execute_result"
    }
   ],
   "source": [
    "?fill"
   ]
  },
  {
   "cell_type": "code",
   "execution_count": 46,
   "metadata": {},
   "outputs": [
    {
     "name": "stdout",
     "output_type": "stream",
     "text": [
      "search: \u001b[0m\u001b[1mL\u001b[22m\u001b[0m\u001b[1mi\u001b[22m\u001b[0m\u001b[1mn\u001b[22m\u001b[0m\u001b[1mR\u001b[22m\u001b[0m\u001b[1ma\u001b[22m\u001b[0m\u001b[1mn\u001b[22m\u001b[0m\u001b[1mg\u001b[22m\u001b[0m\u001b[1me\u001b[22m\n",
      "\n"
     ]
    },
    {
     "data": {
      "text/latex": [
       "\\begin{verbatim}\n",
       "LinRange{T}\n",
       "\\end{verbatim}\n",
       "A range with \\texttt{len} linearly spaced elements between its \\texttt{start} and \\texttt{stop}. The size of the spacing is controlled by \\texttt{len}, which must be an \\texttt{Int}.\n",
       "\n",
       "\\section{Examples}\n",
       "\\begin{verbatim}\n",
       "julia> LinRange(1.5, 5.5, 9)\n",
       "9-element LinRange{Float64}:\n",
       " 1.5,2.0,2.5,3.0,3.5,4.0,4.5,5.0,5.5\n",
       "\\end{verbatim}\n"
      ],
      "text/markdown": [
       "```\n",
       "LinRange{T}\n",
       "```\n",
       "\n",
       "A range with `len` linearly spaced elements between its `start` and `stop`. The size of the spacing is controlled by `len`, which must be an `Int`.\n",
       "\n",
       "# Examples\n",
       "\n",
       "```jldoctest\n",
       "julia> LinRange(1.5, 5.5, 9)\n",
       "9-element LinRange{Float64}:\n",
       " 1.5,2.0,2.5,3.0,3.5,4.0,4.5,5.0,5.5\n",
       "```\n"
      ],
      "text/plain": [
       "\u001b[36m  LinRange{T}\u001b[39m\n",
       "\n",
       "  A range with \u001b[36mlen\u001b[39m linearly spaced elements between its \u001b[36mstart\u001b[39m and \u001b[36mstop\u001b[39m. The\n",
       "  size of the spacing is controlled by \u001b[36mlen\u001b[39m, which must be an \u001b[36mInt\u001b[39m.\n",
       "\n",
       "\u001b[1m  Examples\u001b[22m\n",
       "\u001b[1m  ≡≡≡≡≡≡≡≡≡≡\u001b[22m\n",
       "\n",
       "\u001b[36m  julia> LinRange(1.5, 5.5, 9)\u001b[39m\n",
       "\u001b[36m  9-element LinRange{Float64}:\u001b[39m\n",
       "\u001b[36m   1.5,2.0,2.5,3.0,3.5,4.0,4.5,5.0,5.5\u001b[39m"
      ]
     },
     "execution_count": 46,
     "metadata": {},
     "output_type": "execute_result"
    }
   ],
   "source": [
    "?LinRange"
   ]
  },
  {
   "cell_type": "code",
   "execution_count": 53,
   "metadata": {},
   "outputs": [],
   "source": [
    "#range(0,2*pi,10)"
   ]
  },
  {
   "cell_type": "code",
   "execution_count": 54,
   "metadata": {},
   "outputs": [],
   "source": [
    "#?range"
   ]
  },
  {
   "cell_type": "code",
   "execution_count": null,
   "metadata": {},
   "outputs": [],
   "source": []
  },
  {
   "cell_type": "code",
   "execution_count": null,
   "metadata": {},
   "outputs": [],
   "source": []
  },
  {
   "cell_type": "code",
   "execution_count": 96,
   "metadata": {},
   "outputs": [
    {
     "data": {
      "image/png": "[encoded data removed]",
      "text/plain": [
       "Figure(PyObject <Figure size 500x500 with 1 Axes>)"
      ]
     },
     "metadata": {},
     "output_type": "display_data"
    },
    {
     "data": {
      "text/plain": [
       "PyObject <matplotlib.legend.Legend object at 0x13f290ac8>"
      ]
     },
     "execution_count": 96,
     "metadata": {},
     "output_type": "execute_result"
    }
   ],
   "source": [
    "X,y = make_circles(100; factor=0.9);\n",
    "\n",
    "X1 = X[y.==1,:]\n",
    "X2 = X[y.==2,:]\n",
    "\n",
    "fig = figure(figsize=(5,5))\n",
    "title(\"Plotting concentric circles\")\n",
    "R = scatter(X1[:,1],X1[:,2],color=\"red\",   label = \"circle 1\", s = 30)\n",
    "G = scatter(X2[:,1],X2[:,2],color=\"blue\",  label = \"circle 2\", s = 30)\n",
    "legend(loc=\"right\")\n",
    "#savefig(\"concentric_circles.pdf\")  "
   ]
  },
  {
   "cell_type": "code",
   "execution_count": 93,
   "metadata": {},
   "outputs": [
    {
     "data": {
      "image/png": "[encoded data removed]",
      "text/plain": [
       "Figure(PyObject <Figure size 500x500 with 1 Axes>)"
      ]
     },
     "metadata": {},
     "output_type": "display_data"
    },
    {
     "data": {
      "text/plain": [
       "PyObject <matplotlib.legend.Legend object at 0x13f024eb8>"
      ]
     },
     "execution_count": 93,
     "metadata": {},
     "output_type": "execute_result"
    }
   ],
   "source": [
    "X,y = make_circles(100;noise=0.2, factor= 0.3);\n",
    "\n",
    "X1 = X[y.==1,:]\n",
    "X2 = X[y.==2,:]\n",
    "\n",
    "fig = figure(figsize=(5,5))\n",
    "title(\"Plotting concentric circles\")\n",
    "R = scatter(X1[:,1],X1[:,2],color=\"red\",   label = \"circle 1\", s = 30)\n",
    "G = scatter(X2[:,1],X2[:,2],color=\"blue\",  label = \"cricle 2\", s = 30)\n",
    "legend(loc=\"right\")\n",
    "#savefig(\"concentric_circles.pdf\")  "
   ]
  },
  {
   "cell_type": "code",
   "execution_count": 92,
   "metadata": {},
   "outputs": [
    {
     "data": {
      "image/png": "[encoded data removed]",
      "text/plain": [
       "Figure(PyObject <Figure size 500x500 with 1 Axes>)"
      ]
     },
     "metadata": {},
     "output_type": "display_data"
    },
    {
     "data": {
      "text/plain": [
       "PyObject <matplotlib.legend.Legend object at 0x13ef0cf60>"
      ]
     },
     "execution_count": 92,
     "metadata": {},
     "output_type": "execute_result"
    }
   ],
   "source": [
    "X,y = make_circles(100;noise=0.1, factor=0.3);\n",
    "\n",
    "X1 = X[y.==1,:]\n",
    "X2 = X[y.==2,:]\n",
    "\n",
    "fig = figure(figsize=(5,5))\n",
    "title(\"Plotting concentric circles\")\n",
    "R = scatter(X1[:,1],X1[:,2],color=\"red\",   label = \"circle 1\", s = 30)\n",
    "G = scatter(X2[:,1],X2[:,2],color=\"blue\",  label = \"cricle 2\", s = 30)\n",
    "legend(loc=\"right\")\n",
    "#savefig(\"concentric_circles.pdf\")  "
   ]
  },
  {
   "cell_type": "markdown",
   "metadata": {},
   "source": [
    "# Make moons"
   ]
  },
  {
   "cell_type": "code",
   "execution_count": 64,
   "metadata": {},
   "outputs": [
    {
     "data": {
      "text/plain": [
       "make_moons (generic function with 2 methods)"
      ]
     },
     "execution_count": 64,
     "metadata": {},
     "output_type": "execute_result"
    }
   ],
   "source": [
    "\"\"\"\n",
    "    make_moons(n=100; shuffle=true, noise=0., translation=0.5, factor=1.0, random_seed=1234)\n",
    "    \n",
    "    Generates `n` examples sampling from two moons. The `noise` can be changed to add\n",
    "    noise to the samples.\n",
    "\n",
    "\"\"\"\n",
    "function make_moons(n=100; shuffle=true, noise=0., translation=0.5, factor=1.0, random_seed=1234)\n",
    "    \n",
    "    @assert 0 <= factor <=1  \n",
    "\n",
    "    n_out = div(n, 2)\n",
    "    n_in = n - n_out\n",
    "     \n",
    "    linspace_out = linspace(0, pi; num=n_out, endpoint=true)\n",
    "    linspace_in  = linspace(0, pi; num=n_in, endpoint=true)\n",
    "\n",
    "    \n",
    "\n",
    "    outer_circ_x = cos.(linspace_out)\n",
    "    outer_circ_y = sin.(linspace_out)\n",
    "    inner_circ_x = 1 .- cos.(linspace_in) .* factor\n",
    "    inner_circ_y = 1 .- sin.(linspace_in) .* factor .- translation\n",
    "    \n",
    "    X = [[outer_circ_x..., inner_circ_x...] [outer_circ_y..., inner_circ_y...]]\n",
    "    y = [ones(Int,n_out)..., 2*ones(Int,n_in)...]\n",
    "\n",
    "    if shuffle\n",
    "       X, y = shuffle_Xy(X, y ; random_seed=random_seed)\n",
    "    end\n",
    "    \n",
    "    if noise >0.\n",
    "        X .= X .+ noise.* rand(size(X)...)\n",
    "    end\n",
    "\n",
    "    return X,y\n",
    "end"
   ]
  },
  {
   "cell_type": "code",
   "execution_count": 72,
   "metadata": {},
   "outputs": [
    {
     "data": {
      "image/png": "[encoded data removed]",
      "text/plain": [
       "Figure(PyObject <Figure size 500x500 with 1 Axes>)"
      ]
     },
     "metadata": {},
     "output_type": "display_data"
    },
    {
     "data": {
      "text/plain": [
       "PyObject <matplotlib.legend.Legend object at 0x13d7435f8>"
      ]
     },
     "execution_count": 72,
     "metadata": {},
     "output_type": "execute_result"
    }
   ],
   "source": [
    "X,y = make_moons(100;noise=0.1);\n",
    "\n",
    "X1 = X[y.==1,:]\n",
    "X2 = X[y.==2,:]\n",
    "\n",
    "fig = figure(figsize=(5,5))\n",
    "title(\"Plotting moons\")\n",
    "R = scatter(X1[:,1],X1[:,2],color=\"red\",   label = \"circle 1\", s = 30)\n",
    "G = scatter(X2[:,1],X2[:,2],color=\"blue\",  label = \"cricle 2\", s = 30)\n",
    "legend(loc=\"right\")"
   ]
  },
  {
   "cell_type": "code",
   "execution_count": 78,
   "metadata": {},
   "outputs": [
    {
     "data": {
      "image/png": "[encoded data removed]",
      "text/plain": [
       "Figure(PyObject <Figure size 500x500 with 1 Axes>)"
      ]
     },
     "metadata": {},
     "output_type": "display_data"
    },
    {
     "data": {
      "text/plain": [
       "PyObject <matplotlib.legend.Legend object at 0x13df69550>"
      ]
     },
     "execution_count": 78,
     "metadata": {},
     "output_type": "execute_result"
    }
   ],
   "source": [
    "X,y = make_moons(100;noise=0.1, factor=0.6);\n",
    "\n",
    "\n",
    "X1 = X[y.==1,:]\n",
    "X2 = X[y.==2,:]\n",
    "\n",
    "fig = figure(figsize=(5,5))\n",
    "title(\"Plotting moons\")\n",
    "R = scatter(X1[:,1],X1[:,2],color=\"red\",   label = \"circle 1\", s = 30)\n",
    "G = scatter(X2[:,1],X2[:,2],color=\"blue\",  label = \"cricle 2\", s = 30)\n",
    "legend(loc=\"right\")"
   ]
  },
  {
   "cell_type": "code",
   "execution_count": 79,
   "metadata": {},
   "outputs": [
    {
     "data": {
      "image/png": "[encoded data removed]",
      "text/plain": [
       "Figure(PyObject <Figure size 500x500 with 1 Axes>)"
      ]
     },
     "metadata": {},
     "output_type": "display_data"
    },
    {
     "data": {
      "text/plain": [
       "PyObject <matplotlib.legend.Legend object at 0x13e0c4940>"
      ]
     },
     "execution_count": 79,
     "metadata": {},
     "output_type": "execute_result"
    }
   ],
   "source": [
    "X,y = make_moons(100; noise=0.1, translation=1.0);\n",
    "\n",
    "X1 = X[y.==1,:]\n",
    "X2 = X[y.==2,:]\n",
    "\n",
    "fig = figure(figsize=(5,5))\n",
    "title(\"Plotting moons\")\n",
    "R = scatter(X1[:,1],X1[:,2],color=\"red\",   label = \"circle 1\", s = 30)\n",
    "G = scatter(X2[:,1],X2[:,2],color=\"blue\",  label = \"cricle 2\", s = 30)\n",
    "legend(loc=\"right\")"
   ]
  },
  {
   "cell_type": "code",
   "execution_count": 80,
   "metadata": {},
   "outputs": [
    {
     "data": {
      "image/png": "[encoded data removed]",
      "text/plain": [
       "Figure(PyObject <Figure size 500x500 with 1 Axes>)"
      ]
     },
     "metadata": {},
     "output_type": "display_data"
    },
    {
     "data": {
      "text/plain": [
       "PyObject <matplotlib.legend.Legend object at 0x13e1eef28>"
      ]
     },
     "execution_count": 80,
     "metadata": {},
     "output_type": "execute_result"
    }
   ],
   "source": [
    "X,y = make_moons(100; noise=0.4, translation=0.4);\n",
    "\n",
    "X1 = X[y.==1,:]\n",
    "X2 = X[y.==2,:]\n",
    "\n",
    "fig = figure(figsize=(5,5))\n",
    "title(\"Plotting moons\")\n",
    "R = scatter(X1[:,1],X1[:,2],color=\"red\",   label = \"circle 1\", s = 30)\n",
    "G = scatter(X2[:,1],X2[:,2],color=\"blue\",  label = \"cricle 2\", s = 30)\n",
    "legend(loc=\"right\")"
   ]
  },
  {
   "cell_type": "code",
   "execution_count": 82,
   "metadata": {},
   "outputs": [
    {
     "data": {
      "image/png": "[encoded data removed]",
      "text/plain": [
       "Figure(PyObject <Figure size 500x500 with 1 Axes>)"
      ]
     },
     "metadata": {},
     "output_type": "display_data"
    },
    {
     "data": {
      "text/plain": [
       "PyObject <matplotlib.legend.Legend object at 0x13e0b94e0>"
      ]
     },
     "execution_count": 82,
     "metadata": {},
     "output_type": "execute_result"
    }
   ],
   "source": [
    "X,y = make_moons(100; noise=0.4, translation=2.);\n",
    "\n",
    "X1 = X[y.==1,:]\n",
    "X2 = X[y.==2,:]\n",
    "\n",
    "fig = figure(figsize=(5,5))\n",
    "title(\"Plotting moons\")\n",
    "R = scatter(X1[:,1],X1[:,2],color=\"red\",   label = \"circle 1\", s = 30)\n",
    "G = scatter(X2[:,1],X2[:,2],color=\"blue\",  label = \"cricle 2\", s = 30)\n",
    "legend(loc=\"right\")"
   ]
  },
  {
   "cell_type": "code",
   "execution_count": null,
   "metadata": {},
   "outputs": [],
   "source": []
  },
  {
   "cell_type": "code",
   "execution_count": null,
   "metadata": {},
   "outputs": [],
   "source": []
  }
 ],
 "metadata": {
  "kernelspec": {
   "display_name": "Julia 1.1.1",
   "language": "julia",
   "name": "julia-1.1"
  },
  "language_info": {
   "file_extension": ".jl",
   "mimetype": "application/julia",
   "name": "julia",
   "version": "1.1.1"
  },
  "toc": {
   "base_numbering": 1,
   "nav_menu": {},
   "number_sections": true,
   "sideBar": true,
   "skip_h1_title": false,
   "title_cell": "Table of Contents",
   "title_sidebar": "Contents",
   "toc_cell": false,
   "toc_position": {},
   "toc_section_display": true,
   "toc_window_display": false
  }
 },
 "nbformat": 4,
 "nbformat_minor": 2
}
