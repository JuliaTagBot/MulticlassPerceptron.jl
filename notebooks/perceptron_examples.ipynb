{
 "cells": [
  {
   "cell_type": "code",
   "execution_count": 1,
   "metadata": {},
   "outputs": [
    {
     "name": "stderr",
     "output_type": "stream",
     "text": [
      "┌ Info: CUDAdrv.jl failed to initialize, GPU functionality unavailable (set JULIA_CUDA_SILENT or JULIA_CUDA_VERBOSE to silence or expand this message)\n",
      "└ @ CUDAdrv /Users/davidbuchaca1/.julia/packages/CUDAdrv/3EzC1/src/CUDAdrv.jl:69\n",
      "┌ Info: Precompiling MulticlassPerceptron [dab37cba-9818-490d-9918-279965c31300]\n",
      "└ @ Base loading.jl:1273\n"
     ]
    }
   ],
   "source": [
    "using Statistics\n",
    "using MLJBase, CategoricalArrays\n",
    "\n",
    "# We use flux only to get the MNIST\n",
    "using Flux, Flux.Data.MNIST\n",
    "\n",
    "#push!(LOAD_PATH, \"../src/\") ## Uncomment if MulticlassPerceptron not installed\n",
    "using MulticlassPerceptron\n"
   ]
  },
  {
   "cell_type": "markdown",
   "metadata": {},
   "source": [
    "## Loading the data\n",
    "\n"
   ]
  },
  {
   "cell_type": "code",
   "execution_count": 2,
   "metadata": {},
   "outputs": [
    {
     "name": "stdout",
     "output_type": "stream",
     "text": [
      "\n",
      "Loading data\n",
      "\n",
      "\n",
      "MNIST Dataset Loading...\n",
      "\n",
      "MNIST Dataset Loaded, it took 0.561 seconds\n"
     ]
    },
    {
     "data": {
      "text/plain": [
       "(Float32[0.0 0.0 … 0.0 0.0; 0.0 0.0 … 0.0 0.0; … ; 0.0 0.0 … 0.0 0.0; 0.0 0.0 … 0.0 0.0], CategoricalValue{Int64,UInt32}[6, 1, 5, 2, 10, 3, 2, 4, 2, 5  …  10, 3, 10, 6, 2, 9, 4, 6, 7, 9], Float32[0.0 0.0 … 0.0 0.0; 0.0 0.0 … 0.0 0.0; … ; 0.0 0.0 … 0.0 0.0; 0.0 0.0 … 0.0 0.0], CategoricalValue{Int64,UInt32}[8, 3, 2, 1, 5, 2, 5, 10, 6, 10  …  8, 9, 10, 1, 2, 3, 4, 5, 6, 7])"
      ]
     },
     "execution_count": 2,
     "metadata": {},
     "output_type": "execute_result"
    }
   ],
   "source": [
    "function load_MNIST( ;array_eltype::DataType=Float32, verbose::Bool=true)\n",
    "\n",
    "    if verbose\n",
    "        time_init = time()\n",
    "        println(\"\\nMNIST Dataset Loading...\")\n",
    "    end\n",
    "    train_imgs = MNIST.images(:train)                             # size(train_imgs) -> (60000,)\n",
    "    test_imgs  = MNIST.images(:test)                              # size(test_imgs)  -> (10000,)\n",
    "    train_x    = array_eltype.(hcat(reshape.(train_imgs, :)...))  # size(train_x)    -> (784, 60000)\n",
    "    test_x     = array_eltype.(hcat(reshape.(test_imgs, :)...))   # size(test_x)     -> (784, 60000)\n",
    "\n",
    "    ## Prepare data\n",
    "    train_y = MNIST.labels(:train) .+ 1;\n",
    "    test_y  = MNIST.labels(:test)  .+ 1;\n",
    "\n",
    "    ## Encode targets as CategoricalArray objects\n",
    "    train_y = CategoricalArray(train_y)\n",
    "    test_y  = CategoricalArray(test_y)\n",
    "\n",
    "    if verbose\n",
    "        time_taken = round(time()-time_init; digits=3)\n",
    "        println(\"\\nMNIST Dataset Loaded, it took $time_taken seconds\")\n",
    "    end\n",
    "    return train_x, train_y, test_x, test_y\n",
    "end\n",
    "\n",
    "println(\"\\nLoading data\\n\")\n",
    "train_x, train_y, test_x, test_y = load_MNIST( ;array_eltype=Float32, verbose=true)\n"
   ]
  },
  {
   "cell_type": "code",
   "execution_count": 3,
   "metadata": {},
   "outputs": [],
   "source": [
    "## Define model and train it\n",
    "n_features = size(train_x, 1);\n",
    "n_classes  = length(unique(train_y));\n",
    "y = MNIST.labels(:train) .+ 1;"
   ]
  },
  {
   "cell_type": "markdown",
   "metadata": {},
   "source": [
    "## MulticlassPerceptronCore Object\n",
    "\n",
    "The simplest way to train a MulticlassPerceptron is using the `MulticlassPerceptronCore` struct that simply stores the basic information of the model.\n",
    "\n",
    "```julia\n",
    "mutable struct MulticlassPerceptronCore{T}\n",
    "    W::AbstractMatrix{T}\n",
    "    b::AbstractVector{T}\n",
    "    n_classes::Int\n",
    "    n_features::Int\n",
    "    is_sparse::Bool\n",
    "end\n",
    "```"
   ]
  },
  {
   "cell_type": "code",
   "execution_count": 4,
   "metadata": {},
   "outputs": [
    {
     "data": {
      "text/plain": [
       "MulticlassPerceptronCore{Float32}(Float32[0.23447037 0.4702673 … 0.07694912 0.52801335; 0.25174487 0.6456789 … 0.1692096 0.54663014; … ; 0.07425809 0.14686751 … 0.30431843 0.93198514; 0.6398387 0.5903474 … 0.23373556 0.53661954], Float32[0.0, 0.0, 0.0, 0.0, 0.0, 0.0, 0.0, 0.0, 0.0, 0.0], 10, 784, false)"
      ]
     },
     "execution_count": 4,
     "metadata": {},
     "output_type": "execute_result"
    }
   ],
   "source": [
    "is_sparse = false\n",
    "perceptron = MulticlassPerceptronCore(Float32, n_classes, n_features, is_sparse) "
   ]
  },
  {
   "cell_type": "code",
   "execution_count": 5,
   "metadata": {},
   "outputs": [
    {
     "name": "stdout",
     "output_type": "stream",
     "text": [
      "\u001b[KEpoch: 50 \t Accuracy: 0.898"
     ]
    },
    {
     "data": {
      "text/plain": [
       "10-element Array{Float32,1}:\n",
       " -59.287125\n",
       "  36.523853\n",
       "  19.533762\n",
       " -21.265474\n",
       "   5.193879\n",
       " 101.60766 \n",
       " -33.41662 \n",
       "  54.046825\n",
       " -89.69275 \n",
       " -13.244057"
      ]
     },
     "execution_count": 5,
     "metadata": {},
     "output_type": "execute_result"
    }
   ],
   "source": [
    "fit!(perceptron,\n",
    "     train_x,\n",
    "     y;\n",
    "     verbosity=1,\n",
    "     n_epochs=50,\n",
    "     f_average_weights=true)"
   ]
  },
  {
   "cell_type": "code",
   "execution_count": 6,
   "metadata": {},
   "outputs": [
    {
     "name": "stdout",
     "output_type": "stream",
     "text": [
      "Results:\n",
      "Train accuracy:0.9357166666666666\n",
      "Test accuracy:0.9266\n",
      "\n",
      "\n"
     ]
    }
   ],
   "source": [
    "y_hat_train = MulticlassPerceptron.predict(perceptron, train_x)\n",
    "y_hat_test  = MulticlassPerceptron.predict(perceptron, test_x);\n",
    "\n",
    "## Evaluate the model\n",
    "println(\"Results:\")\n",
    "println(\"Train accuracy:\", mean(y_hat_train .== train_y))\n",
    "println(\"Test accuracy:\",  mean(y_hat_test  .== test_y))\n",
    "println(\"\\n\")"
   ]
  },
  {
   "cell_type": "markdown",
   "metadata": {},
   "source": [
    "## MulticlassPerceptronClassifier Object\n",
    "\n",
    "The `MulticlassPerceptronClassifier` is the basic object build to take advantage of MLJ capabilities.\n",
    "\n",
    "We can use `fit` with a CategoricalArray of the target (which can have any values, it is not restricted to values from 1 to the number of classes). "
   ]
  },
  {
   "cell_type": "code",
   "execution_count": 7,
   "metadata": {},
   "outputs": [
    {
     "data": {
      "text/plain": [
       "MulticlassPerceptronClassifier(n_epochs = 50,\n",
       "                               n_epoch_patience = 5,\n",
       "                               f_average_weights = true,\n",
       "                               f_shuffle_data = false,\n",
       "                               element_type = Float32,)\u001b[34m @ 1…08\u001b[39m"
      ]
     },
     "execution_count": 7,
     "metadata": {},
     "output_type": "execute_result"
    }
   ],
   "source": [
    "## Define model and train it\n",
    "n_features = size(train_x, 1);\n",
    "n_classes  = length(unique(train_y));\n",
    "perceptron = MulticlassPerceptronClassifier(n_epochs=50; f_average_weights=true)"
   ]
  },
  {
   "cell_type": "markdown",
   "metadata": {},
   "source": [
    "Training a `MulticlassPerceptronClassifier`"
   ]
  },
  {
   "cell_type": "code",
   "execution_count": 8,
   "metadata": {},
   "outputs": [
    {
     "name": "stdout",
     "output_type": "stream",
     "text": [
      "\n",
      "Start Learning\n",
      "\n",
      "\u001b[KEpoch: 50 \t Accuracy: 0.898"
     ]
    },
    {
     "data": {
      "text/plain": [
       "6.534"
      ]
     },
     "execution_count": 8,
     "metadata": {},
     "output_type": "execute_result"
    }
   ],
   "source": [
    "## Train the model\n",
    "println(\"\\nStart Learning\\n\")\n",
    "time_init = time()\n",
    "fitresult, _ , _  = fit(perceptron, 1, train_x, train_y) #\n",
    "time_taken = round(time()-time_init; digits=3)"
   ]
  },
  {
   "cell_type": "markdown",
   "metadata": {},
   "source": [
    "Make predictions"
   ]
  },
  {
   "cell_type": "code",
   "execution_count": 9,
   "metadata": {},
   "outputs": [
    {
     "name": "stdout",
     "output_type": "stream",
     "text": [
      "\n",
      "Learning took 6.534 seconds\n",
      "\n",
      "Results:\n",
      "Train accuracy:0.9357833333333333\n",
      "Test accuracy:0.9266\n",
      "\n",
      "\n"
     ]
    }
   ],
   "source": [
    "println(\"\\nLearning took $time_taken seconds\\n\")\n",
    "\n",
    "## Make predictions\n",
    "y_hat_train = MLJBase.predict(fitresult, train_x)\n",
    "y_hat_test  = MLJBase.predict(fitresult, test_x);\n",
    "\n",
    "## Evaluate the model\n",
    "println(\"Results:\")\n",
    "println(\"Train accuracy:\", mean(y_hat_train .== train_y))\n",
    "println(\"Test accuracy:\",  mean(y_hat_test  .== test_y))\n",
    "println(\"\\n\")"
   ]
  },
  {
   "cell_type": "markdown",
   "metadata": {},
   "source": [
    "## Machine with `MulticlassPerceptronClassifier`\n",
    "\n"
   ]
  },
  {
   "cell_type": "code",
   "execution_count": 10,
   "metadata": {},
   "outputs": [
    {
     "name": "stderr",
     "output_type": "stream",
     "text": [
      "WARNING: using MLJ.fit! in module Main conflicts with an existing identifier.\n"
     ]
    }
   ],
   "source": [
    "using MLJ"
   ]
  },
  {
   "cell_type": "code",
   "execution_count": 11,
   "metadata": {},
   "outputs": [
    {
     "data": {
      "text/plain": [
       "(784, 60000)"
      ]
     },
     "execution_count": 11,
     "metadata": {},
     "output_type": "execute_result"
    }
   ],
   "source": [
    "size(train_x)"
   ]
  },
  {
   "cell_type": "code",
   "execution_count": 12,
   "metadata": {},
   "outputs": [
    {
     "data": {
      "text/plain": [
       "Tables.MatrixTable{LinearAlgebra.Adjoint{Float32,Array{Float32,2}}}(Symbol[:x1, :x2, :x3, :x4, :x5, :x6, :x7, :x8, :x9, :x10  …  :x775, :x776, :x777, :x778, :x779, :x780, :x781, :x782, :x783, :x784], Dict(:x753 => 753,:x620 => 620,:x233 => 233,:x71 => 71,:x110 => 110,:x685 => 685,:x348 => 348,:x630 => 630,:x539 => 539,:x608 => 608…), Float32[0.0 0.0 … 0.0 0.0; 0.0 0.0 … 0.0 0.0; … ; 0.0 0.0 … 0.0 0.0; 0.0 0.0 … 0.0 0.0])"
      ]
     },
     "execution_count": 12,
     "metadata": {},
     "output_type": "execute_result"
    }
   ],
   "source": [
    "train_x_rowexamples = MLJBase.table(train_x')  \n",
    "train_x_rowexamples"
   ]
  },
  {
   "cell_type": "code",
   "execution_count": 13,
   "metadata": {},
   "outputs": [
    {
     "data": {
      "text/plain": [
       "MulticlassPerceptronClassifier(n_epochs = 50,\n",
       "                               n_epoch_patience = 5,\n",
       "                               f_average_weights = true,\n",
       "                               f_shuffle_data = false,\n",
       "                               element_type = Float32,)\u001b[34m @ 5…34\u001b[39m"
      ]
     },
     "execution_count": 13,
     "metadata": {},
     "output_type": "execute_result"
    }
   ],
   "source": [
    "perceptron = MulticlassPerceptronClassifier(n_epochs=50; f_average_weights=true)"
   ]
  },
  {
   "cell_type": "code",
   "execution_count": 14,
   "metadata": {},
   "outputs": [
    {
     "data": {
      "text/plain": [
       "\u001b[34mMachine{MulticlassPerceptronClassifier} @ 1…17\u001b[39m\n"
      ]
     },
     "execution_count": 14,
     "metadata": {},
     "output_type": "execute_result"
    }
   ],
   "source": [
    "# machines expert Tables.Table or DataFrame objects, not AbstractArrays\n",
    "perceptron_machine = machine(perceptron, train_x_rowexamples, train_y)  "
   ]
  },
  {
   "cell_type": "code",
   "execution_count": 15,
   "metadata": {},
   "outputs": [
    {
     "name": "stdout",
     "output_type": "stream",
     "text": [
      "\n",
      "Start Learning\n",
      "\n"
     ]
    },
    {
     "name": "stderr",
     "output_type": "stream",
     "text": [
      "┌ Info: Training \u001b[34mMachine{MulticlassPerceptronClassifier} @ 1…17\u001b[39m.\n",
      "└ @ MLJ /Users/davidbuchaca1/.julia/packages/MLJ/K371Q/src/machines.jl:141\n"
     ]
    },
    {
     "name": "stdout",
     "output_type": "stream",
     "text": [
      "\u001b[KEpoch: 50 \t Accuracy: 0.899\n",
      "Learning took 11.513 seconds\n",
      "\n"
     ]
    }
   ],
   "source": [
    "## Train the model\n",
    "println(\"\\nStart Learning\\n\")\n",
    "time_init = time()\n",
    "#fitresult, _ , _  = MLJBase.fit(perceptron, 1, train_x, train_y) # If train_y is a CategoricalArray\n",
    "MLJBase.fit!(perceptron_machine)\n",
    "time_taken = round(time()-time_init; digits=3)\n",
    "println(\"\\nLearning took $time_taken seconds\\n\")"
   ]
  },
  {
   "cell_type": "code",
   "execution_count": 16,
   "metadata": {},
   "outputs": [
    {
     "name": "stdout",
     "output_type": "stream",
     "text": [
      "Results:\n",
      "Train accuracy:0.93605\n",
      "Test accuracy:0.9271\n",
      "\n",
      "\n"
     ]
    }
   ],
   "source": [
    "## Make predictions\n",
    "y_hat_train = MLJBase.predict(perceptron_machine, train_x)\n",
    "y_hat_test  = MLJBase.predict(perceptron_machine, test_x);\n",
    "\n",
    "## Evaluate the model\n",
    "println(\"Results:\")\n",
    "println(\"Train accuracy:\", mean(y_hat_train .== train_y))\n",
    "println(\"Test accuracy:\",  mean(y_hat_test  .== test_y))\n",
    "println(\"\\n\")"
   ]
  },
  {
   "cell_type": "markdown",
   "metadata": {},
   "source": [
    "### EnsembleModel"
   ]
  },
  {
   "cell_type": "code",
   "execution_count": null,
   "metadata": {},
   "outputs": [],
   "source": []
  },
  {
   "cell_type": "code",
   "execution_count": null,
   "metadata": {},
   "outputs": [],
   "source": []
  },
  {
   "cell_type": "markdown",
   "metadata": {},
   "source": [
    "### Composing Models"
   ]
  },
  {
   "cell_type": "code",
   "execution_count": null,
   "metadata": {},
   "outputs": [],
   "source": []
  }
 ],
 "metadata": {
  "kernelspec": {
   "display_name": "Julia 1.3.0",
   "language": "julia",
   "name": "julia-1.3"
  },
  "language_info": {
   "file_extension": ".jl",
   "mimetype": "application/julia",
   "name": "julia",
   "version": "1.3.0"
  },
  "toc": {
   "base_numbering": 1,
   "nav_menu": {},
   "number_sections": true,
   "sideBar": true,
   "skip_h1_title": false,
   "title_cell": "Table of Contents",
   "title_sidebar": "Contents",
   "toc_cell": false,
   "toc_position": {},
   "toc_section_display": true,
   "toc_window_display": false
  }
 },
 "nbformat": 4,
 "nbformat_minor": 2
}
