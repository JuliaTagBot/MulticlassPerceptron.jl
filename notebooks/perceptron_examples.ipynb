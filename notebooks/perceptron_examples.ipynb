{
 "cells": [
  {
   "cell_type": "code",
   "execution_count": 1,
   "metadata": {},
   "outputs": [
    {
     "name": "stderr",
     "output_type": "stream",
     "text": [
      "┌ Info: CUDAdrv.jl failed to initialize, GPU functionality unavailable (set JULIA_CUDA_SILENT or JULIA_CUDA_VERBOSE to silence or expand this message)\n",
      "└ @ CUDAdrv /Users/david/.julia/packages/CUDAdrv/3EzC1/src/CUDAdrv.jl:69\n"
     ]
    }
   ],
   "source": [
    "using Statistics\n",
    "using MLJBase, CategoricalArrays\n",
    "using MLJ\n",
    "\n",
    "# We use flux only to get the MNIST\n",
    "using Flux, Flux.Data.MNIST\n",
    "\n",
    "#push!(LOAD_PATH, \"../src/\") ## Uncomment if MulticlassPerceptron not installed\n",
    "using MulticlassPerceptron\n"
   ]
  },
  {
   "cell_type": "markdown",
   "metadata": {},
   "source": [
    "## Loading the data\n",
    "\n"
   ]
  },
  {
   "cell_type": "code",
   "execution_count": 2,
   "metadata": {},
   "outputs": [
    {
     "name": "stdout",
     "output_type": "stream",
     "text": [
      "\n",
      "Loading data\n",
      "\n",
      "\n",
      "MNIST Dataset Loading...\n",
      "\n",
      "MNIST Dataset Loaded, it took 1.05 seconds\n"
     ]
    },
    {
     "data": {
      "text/plain": [
       "(Float32[0.0 0.0 … 0.0 0.0; 0.0 0.0 … 0.0 0.0; … ; 0.0 0.0 … 0.0 0.0; 0.0 0.0 … 0.0 0.0], CategoricalValue{Int64,UInt32}[6, 1, 5, 2, 10, 3, 2, 4, 2, 5  …  10, 3, 10, 6, 2, 9, 4, 6, 7, 9], Float32[0.0 0.0 … 0.0 0.0; 0.0 0.0 … 0.0 0.0; … ; 0.0 0.0 … 0.0 0.0; 0.0 0.0 … 0.0 0.0], CategoricalValue{Int64,UInt32}[8, 3, 2, 1, 5, 2, 5, 10, 6, 10  …  8, 9, 10, 1, 2, 3, 4, 5, 6, 7])"
      ]
     },
     "execution_count": 2,
     "metadata": {},
     "output_type": "execute_result"
    }
   ],
   "source": [
    "function load_MNIST( ;array_eltype::DataType=Float32, verbose::Bool=true)\n",
    "\n",
    "    if verbose\n",
    "        time_init = time()\n",
    "        println(\"\\nMNIST Dataset Loading...\")\n",
    "    end\n",
    "    train_imgs = MNIST.images(:train)                             # size(train_imgs) -> (60000,)\n",
    "    test_imgs  = MNIST.images(:test)                              # size(test_imgs)  -> (10000,)\n",
    "    train_x    = array_eltype.(hcat(reshape.(train_imgs, :)...))  # size(train_x)    -> (784, 60000)\n",
    "    test_x     = array_eltype.(hcat(reshape.(test_imgs, :)...))   # size(test_x)     -> (784, 60000)\n",
    "\n",
    "    ## Prepare data\n",
    "    train_y = MNIST.labels(:train) .+ 1;\n",
    "    test_y  = MNIST.labels(:test)  .+ 1;\n",
    "\n",
    "    ## Encode targets as CategoricalArray objects\n",
    "    train_y = CategoricalArray(train_y)\n",
    "    test_y  = CategoricalArray(test_y)\n",
    "\n",
    "    if verbose\n",
    "        time_taken = round(time()-time_init; digits=3)\n",
    "        println(\"\\nMNIST Dataset Loaded, it took $time_taken seconds\")\n",
    "    end\n",
    "    return train_x, train_y, test_x, test_y\n",
    "end\n",
    "\n",
    "println(\"\\nLoading data\\n\")\n",
    "train_x, train_y, test_x, test_y = load_MNIST( ;array_eltype=Float32, verbose=true)\n"
   ]
  },
  {
   "cell_type": "code",
   "execution_count": 3,
   "metadata": {},
   "outputs": [],
   "source": [
    "## Define model and train it\n",
    "n_features = size(train_x, 1);\n",
    "n_classes  = length(unique(train_y));\n",
    "y = MNIST.labels(:train) .+ 1;"
   ]
  },
  {
   "cell_type": "markdown",
   "metadata": {},
   "source": [
    "## MulticlassPerceptronCore Object\n",
    "\n",
    "The simplest way to train a MulticlassPerceptron is using the `MulticlassPerceptronCore` struct that simply stores the basic information of the model.\n",
    "\n",
    "```julia\n",
    "mutable struct MulticlassPerceptronCore{T}\n",
    "    W::AbstractMatrix{T}\n",
    "    b::AbstractVector{T}\n",
    "    n_classes::Int\n",
    "    n_features::Int\n",
    "    is_sparse::Bool\n",
    "end\n",
    "```"
   ]
  },
  {
   "cell_type": "code",
   "execution_count": 4,
   "metadata": {},
   "outputs": [
    {
     "data": {
      "text/plain": [
       "MulticlassPerceptronCore{Float32}(Float32[0.41853082 0.76888824 … 0.49009085 0.2114991; 0.25780487 0.95415425 … 0.45526063 0.25016534; … ; 0.67237735 0.21411085 … 0.18651879 0.029226422; 0.713514 0.9978076 … 0.2012527 0.6974728], Float32[0.0, 0.0, 0.0, 0.0, 0.0, 0.0, 0.0, 0.0, 0.0, 0.0], 10, 784, false)"
      ]
     },
     "execution_count": 4,
     "metadata": {},
     "output_type": "execute_result"
    }
   ],
   "source": [
    "is_sparse = false\n",
    "perceptron = MulticlassPerceptronCore(Float32, n_classes, n_features, is_sparse) "
   ]
  },
  {
   "cell_type": "code",
   "execution_count": 5,
   "metadata": {},
   "outputs": [
    {
     "name": "stderr",
     "output_type": "stream",
     "text": [
      "WARNING: both MulticlassPerceptron and MLJ export \"fit!\"; uses of it in module Main must be qualified\n"
     ]
    },
    {
     "ename": "UndefVarError",
     "evalue": "UndefVarError: fit! not defined",
     "output_type": "error",
     "traceback": [
      "UndefVarError: fit! not defined",
      "",
      "Stacktrace:",
      " [1] top-level scope at In[5]:1"
     ]
    }
   ],
   "source": [
    "fit!(perceptron,\n",
    "     train_x,\n",
    "     y;\n",
    "     verbosity=1,\n",
    "     n_epochs=50,\n",
    "     f_average_weights=true)"
   ]
  },
  {
   "cell_type": "code",
   "execution_count": 6,
   "metadata": {},
   "outputs": [
    {
     "name": "stdout",
     "output_type": "stream",
     "text": [
      "Results:\n",
      "Train accuracy:0.15008333333333335\n",
      "Test accuracy:0.1394\n",
      "\n",
      "\n"
     ]
    }
   ],
   "source": [
    "y_hat_train = MulticlassPerceptron.predict(perceptron, train_x)\n",
    "y_hat_test  = MulticlassPerceptron.predict(perceptron, test_x);\n",
    "\n",
    "## Evaluate the model\n",
    "println(\"Results:\")\n",
    "println(\"Train accuracy:\", mean(y_hat_train .== train_y))\n",
    "println(\"Test accuracy:\",  mean(y_hat_test  .== test_y))\n",
    "println(\"\\n\")"
   ]
  },
  {
   "cell_type": "markdown",
   "metadata": {},
   "source": [
    "## MulticlassPerceptronClassifier Object\n",
    "\n",
    "The `MulticlassPerceptronClassifier` is the basic object build to take advantage of MLJ capabilities.\n",
    "\n",
    "We can use `fit` with a CategoricalArray of the target (which can have any values, it is not restricted to values from 1 to the number of classes). "
   ]
  },
  {
   "cell_type": "code",
   "execution_count": 7,
   "metadata": {},
   "outputs": [
    {
     "data": {
      "text/plain": [
       "MulticlassPerceptronClassifier(n_epochs = 50,\n",
       "                               n_epoch_patience = 5,\n",
       "                               f_average_weights = true,\n",
       "                               f_shuffle_data = false,\n",
       "                               element_type = Float32,)\u001b[34m @ 3…73\u001b[39m"
      ]
     },
     "execution_count": 7,
     "metadata": {},
     "output_type": "execute_result"
    }
   ],
   "source": [
    "## Define model and train it\n",
    "n_features = size(train_x, 1);\n",
    "n_classes  = length(unique(train_y));\n",
    "perceptron = MulticlassPerceptronClassifier(n_epochs=50; f_average_weights=true)"
   ]
  },
  {
   "cell_type": "markdown",
   "metadata": {},
   "source": [
    "Training a `MulticlassPerceptronClassifier`"
   ]
  },
  {
   "cell_type": "code",
   "execution_count": 8,
   "metadata": {},
   "outputs": [
    {
     "name": "stdout",
     "output_type": "stream",
     "text": [
      "\n",
      "Start Learning\n",
      "\n",
      "\u001b[KEpoch: 50 \t Accuracy: 0.898"
     ]
    },
    {
     "data": {
      "text/plain": [
       "15.098"
      ]
     },
     "execution_count": 8,
     "metadata": {},
     "output_type": "execute_result"
    }
   ],
   "source": [
    "## Train the model\n",
    "println(\"\\nStart Learning\\n\")\n",
    "time_init = time()\n",
    "fitresult, _ , _  = fit(perceptron, 1, train_x, train_y) #\n",
    "time_taken = round(time()-time_init; digits=3)"
   ]
  },
  {
   "cell_type": "markdown",
   "metadata": {},
   "source": [
    "Make predictions"
   ]
  },
  {
   "cell_type": "code",
   "execution_count": 9,
   "metadata": {},
   "outputs": [
    {
     "name": "stdout",
     "output_type": "stream",
     "text": [
      "\n",
      "Learning took 15.098 seconds\n",
      "\n",
      "Results:\n",
      "Train accuracy:0.9357666666666666\n",
      "Test accuracy:0.9263\n",
      "\n",
      "\n"
     ]
    }
   ],
   "source": [
    "println(\"\\nLearning took $time_taken seconds\\n\")\n",
    "\n",
    "## Make predictions\n",
    "y_hat_train = MLJBase.predict(fitresult, train_x)\n",
    "y_hat_test  = MLJBase.predict(fitresult, test_x);\n",
    "\n",
    "## Evaluate the model\n",
    "println(\"Results:\")\n",
    "println(\"Train accuracy:\", mean(y_hat_train .== train_y))\n",
    "println(\"Test accuracy:\",  mean(y_hat_test  .== test_y))\n",
    "println(\"\\n\")"
   ]
  },
  {
   "cell_type": "markdown",
   "metadata": {},
   "source": [
    "## Machine with `MulticlassPerceptronClassifier`\n",
    "\n"
   ]
  },
  {
   "cell_type": "code",
   "execution_count": 10,
   "metadata": {},
   "outputs": [
    {
     "data": {
      "text/plain": [
       "(784, 60000)"
      ]
     },
     "execution_count": 10,
     "metadata": {},
     "output_type": "execute_result"
    }
   ],
   "source": [
    "size(train_x)"
   ]
  },
  {
   "cell_type": "code",
   "execution_count": 11,
   "metadata": {},
   "outputs": [
    {
     "data": {
      "text/plain": [
       "Tables.MatrixTable{LinearAlgebra.Adjoint{Float32,Array{Float32,2}}}(Symbol[:x1, :x2, :x3, :x4, :x5, :x6, :x7, :x8, :x9, :x10  …  :x775, :x776, :x777, :x778, :x779, :x780, :x781, :x782, :x783, :x784], Dict(:x753 => 753,:x620 => 620,:x233 => 233,:x71 => 71,:x110 => 110,:x685 => 685,:x348 => 348,:x630 => 630,:x539 => 539,:x608 => 608…), Float32[0.0 0.0 … 0.0 0.0; 0.0 0.0 … 0.0 0.0; … ; 0.0 0.0 … 0.0 0.0; 0.0 0.0 … 0.0 0.0])"
      ]
     },
     "execution_count": 11,
     "metadata": {},
     "output_type": "execute_result"
    }
   ],
   "source": [
    "train_x_rowexamples = MLJBase.table(train_x')  \n",
    "train_x_rowexamples"
   ]
  },
  {
   "cell_type": "code",
   "execution_count": 12,
   "metadata": {},
   "outputs": [
    {
     "data": {
      "text/plain": [
       "MulticlassPerceptronClassifier(n_epochs = 50,\n",
       "                               n_epoch_patience = 5,\n",
       "                               f_average_weights = true,\n",
       "                               f_shuffle_data = false,\n",
       "                               element_type = Float32,)\u001b[34m @ 1…46\u001b[39m"
      ]
     },
     "execution_count": 12,
     "metadata": {},
     "output_type": "execute_result"
    }
   ],
   "source": [
    "perceptron = MulticlassPerceptronClassifier(n_epochs=50; f_average_weights=true)"
   ]
  },
  {
   "cell_type": "code",
   "execution_count": 13,
   "metadata": {},
   "outputs": [
    {
     "data": {
      "text/plain": [
       "\u001b[34mMachine{MulticlassPerceptronClassifier} @ 3…26\u001b[39m\n"
      ]
     },
     "execution_count": 13,
     "metadata": {},
     "output_type": "execute_result"
    }
   ],
   "source": [
    "# machines expert Tables.Table or DataFrame objects, not AbstractArrays\n",
    "perceptron_machine = machine(perceptron, train_x_rowexamples, train_y)  "
   ]
  },
  {
   "cell_type": "code",
   "execution_count": 14,
   "metadata": {},
   "outputs": [
    {
     "name": "stdout",
     "output_type": "stream",
     "text": [
      "\n",
      "Start Learning\n",
      "\n"
     ]
    },
    {
     "name": "stderr",
     "output_type": "stream",
     "text": [
      "┌ Info: Training \u001b[34mMachine{MulticlassPerceptronClassifier} @ 3…26\u001b[39m.\n",
      "└ @ MLJ /Users/david/.julia/packages/MLJ/mxD3X/src/machines.jl:172\n"
     ]
    },
    {
     "name": "stdout",
     "output_type": "stream",
     "text": [
      "\u001b[KEpoch: 50 \t Accuracy: 0.898\n",
      "Learning took 29.612 seconds\n",
      "\n"
     ]
    }
   ],
   "source": [
    "## Train the model\n",
    "println(\"\\nStart Learning\\n\")\n",
    "time_init = time()\n",
    "#fitresult, _ , _  = MLJBase.fit(perceptron, 1, train_x, train_y) # If train_y is a CategoricalArray\n",
    "MLJBase.fit!(perceptron_machine)\n",
    "time_taken = round(time()-time_init; digits=3)\n",
    "println(\"\\nLearning took $time_taken seconds\\n\")"
   ]
  },
  {
   "cell_type": "code",
   "execution_count": 15,
   "metadata": {
    "scrolled": true
   },
   "outputs": [
    {
     "name": "stdout",
     "output_type": "stream",
     "text": [
      "Results:\n",
      "Train accuracy:0.9357833333333333\n",
      "Test accuracy:0.927\n",
      "\n",
      "\n"
     ]
    }
   ],
   "source": [
    "## Make predictions\n",
    "y_hat_train = MLJBase.predict(perceptron_machine, train_x)\n",
    "y_hat_test  = MLJBase.predict(perceptron_machine, test_x);\n",
    "\n",
    "## Evaluate the model\n",
    "println(\"Results:\")\n",
    "println(\"Train accuracy:\", mean(y_hat_train .== train_y))\n",
    "println(\"Test accuracy:\",  mean(y_hat_test  .== test_y))\n",
    "println(\"\\n\")"
   ]
  },
  {
   "cell_type": "markdown",
   "metadata": {},
   "source": [
    "## EnsembleModel\n",
    "\n",
    "MLJ offers basic support for ensembling techniques such as bagging. \n",
    "\n",
    "For the MulticlassPerceptorn as is, it does not make a lot of sense to do bagging, but for other estimators it is a pretty interesting technique.\n",
    "\n",
    "In order to define an Ensemble we need an \"atomic\" model."
   ]
  },
  {
   "cell_type": "code",
   "execution_count": 16,
   "metadata": {},
   "outputs": [],
   "source": [
    "using MLJ"
   ]
  },
  {
   "cell_type": "code",
   "execution_count": 17,
   "metadata": {},
   "outputs": [],
   "source": [
    "using Tables"
   ]
  },
  {
   "cell_type": "code",
   "execution_count": 18,
   "metadata": {},
   "outputs": [
    {
     "data": {
      "text/plain": [
       "Tables.MatrixTable{Array{Float32,2}}(Symbol[:Column1, :Column2, :Column3, :Column4, :Column5, :Column6, :Column7, :Column8, :Column9, :Column10  …  :Column775, :Column776, :Column777, :Column778, :Column779, :Column780, :Column781, :Column782, :Column783, :Column784], Dict(:Column42 => 42,:Column285 => 285,:Column714 => 714,:Column630 => 630,:Column167 => 167,:Column607 => 607,:Column693 => 693,:Column499 => 499,:Column52 => 52,:Column647 => 647…), Float32[0.0 0.0 … 0.0 0.0; 0.0 0.0 … 0.0 0.0; … ; 0.0 0.0 … 0.0 0.0; 0.0 0.0 … 0.0 0.0])"
      ]
     },
     "execution_count": 18,
     "metadata": {},
     "output_type": "execute_result"
    }
   ],
   "source": [
    "train_x_table = Tables.table(copy(train_x'))"
   ]
  },
  {
   "cell_type": "code",
   "execution_count": 20,
   "metadata": {},
   "outputs": [
    {
     "data": {
      "text/plain": [
       "AbstractArray{#s26,1} where #s26<:Finite"
      ]
     },
     "execution_count": 20,
     "metadata": {},
     "output_type": "execute_result"
    }
   ],
   "source": [
    "target_scitype(MulticlassPerceptronClassifier)"
   ]
  },
  {
   "cell_type": "code",
   "execution_count": 21,
   "metadata": {},
   "outputs": [
    {
     "data": {
      "text/plain": [
       "MulticlassPerceptronClassifier(n_epochs = 100,\n",
       "                               n_epoch_patience = 5,\n",
       "                               f_average_weights = true,\n",
       "                               f_shuffle_data = false,\n",
       "                               element_type = Float32,)\u001b[34m @ 4…43\u001b[39m"
      ]
     },
     "execution_count": 21,
     "metadata": {},
     "output_type": "execute_result"
    }
   ],
   "source": [
    "model        = MulticlassPerceptronClassifier()"
   ]
  },
  {
   "cell_type": "code",
   "execution_count": 22,
   "metadata": {},
   "outputs": [
    {
     "data": {
      "text/plain": [
       "MLJ.DeterministicEnsembleModel(atom = MulticlassPerceptronClassifier(n_epochs = 100,\n",
       "                                                                     n_epoch_patience = 5,\n",
       "                                                                     f_average_weights = true,\n",
       "                                                                     f_shuffle_data = false,\n",
       "                                                                     element_type = Float32,),\n",
       "                               atomic_weights = Float64[],\n",
       "                               bagging_fraction = 0.8,\n",
       "                               rng = Random._GLOBAL_RNG(),\n",
       "                               n = 20,\n",
       "                               acceleration = ComputationalResources.CPU1{Nothing}(nothing),\n",
       "                               out_of_bag_measure = Any[],)\u001b[34m @ 1…88\u001b[39m"
      ]
     },
     "execution_count": 22,
     "metadata": {},
     "output_type": "execute_result"
    }
   ],
   "source": [
    "ensemble_model   = EnsembleModel(atom=model, n=20)"
   ]
  },
  {
   "cell_type": "code",
   "execution_count": 23,
   "metadata": {},
   "outputs": [
    {
     "name": "stdout",
     "output_type": "stream",
     "text": [
      "340.908737 seconds (5.08 M allocations: 929.223 MiB, 0.04% gc time)\n"
     ]
    },
    {
     "data": {
      "text/plain": [
       "\u001b[34mMachine{DeterministicEnsembleModel{MulticlassPerceptronClassifier}} @ 1…08\u001b[39m\n"
      ]
     },
     "execution_count": 23,
     "metadata": {},
     "output_type": "execute_result"
    }
   ],
   "source": [
    "@time ensemble_machine = machine(ensemble_model, train_x_table, train_y)"
   ]
  },
  {
   "cell_type": "code",
   "execution_count": 24,
   "metadata": {},
   "outputs": [
    {
     "data": {
      "text/plain": [
       "Tables.MatrixTable{Array{Float32,2}}(Symbol[:Column1, :Column2, :Column3, :Column4, :Column5, :Column6, :Column7, :Column8, :Column9, :Column10  …  :Column775, :Column776, :Column777, :Column778, :Column779, :Column780, :Column781, :Column782, :Column783, :Column784], Dict(:Column42 => 42,:Column285 => 285,:Column714 => 714,:Column630 => 630,:Column167 => 167,:Column607 => 607,:Column693 => 693,:Column499 => 499,:Column52 => 52,:Column647 => 647…), Float32[0.0 0.0 … 0.0 0.0; 0.0 0.0 … 0.0 0.0; … ; 0.0 0.0 … 0.0 0.0; 0.0 0.0 … 0.0 0.0])"
      ]
     },
     "execution_count": 24,
     "metadata": {},
     "output_type": "execute_result"
    }
   ],
   "source": [
    "train_x_table"
   ]
  },
  {
   "cell_type": "code",
   "execution_count": 25,
   "metadata": {},
   "outputs": [
    {
     "name": "stderr",
     "output_type": "stream",
     "text": [
      "┌ Info: Training \u001b[34mMachine{DeterministicEnsembleModel{MulticlassPerceptronClassifier}} @ 1…08\u001b[39m.\n",
      "└ @ MLJ /Users/david/.julia/packages/MLJ/mxD3X/src/machines.jl:172\n",
      "\u001b[33mTraining ensemble: 100%[==================================================] Time: 0:07:20\u001b[39m\n"
     ]
    },
    {
     "name": "stdout",
     "output_type": "stream",
     "text": [
      "\n"
     ]
    },
    {
     "data": {
      "text/plain": [
       "\u001b[34mMachine{DeterministicEnsembleModel{MulticlassPerceptronClassifier}} @ 1…08\u001b[39m\n"
      ]
     },
     "execution_count": 25,
     "metadata": {},
     "output_type": "execute_result"
    }
   ],
   "source": [
    "MLJ.fit!(ensemble_machine)"
   ]
  },
  {
   "cell_type": "code",
   "execution_count": 26,
   "metadata": {},
   "outputs": [
    {
     "name": "stdout",
     "output_type": "stream",
     "text": [
      "accuracy:  0.9410666666666667"
     ]
    }
   ],
   "source": [
    "y_hat = MLJ.predict(ensemble_machine,train_x_table);\n",
    "print(\"accuracy:  $(mean(y_hat .== y))\")"
   ]
  },
  {
   "cell_type": "code",
   "execution_count": 27,
   "metadata": {},
   "outputs": [
    {
     "name": "stdout",
     "output_type": "stream",
     "text": [
      "accuracy:  0.9282"
     ]
    }
   ],
   "source": [
    "test_x_table = Tables.table(copy(test_x'))\n",
    "y_hat_test   = MLJ.predict(ensemble_machine,test_x_table);\n",
    "print(\"accuracy:  $(mean(y_hat_test .== test_y))\")"
   ]
  },
  {
   "cell_type": "markdown",
   "metadata": {},
   "source": [
    "Notice that an ensemble with bagging is simply a bunch of models which are used to make the final prediction (by simply averaging the predictions of the different models)"
   ]
  },
  {
   "cell_type": "code",
   "execution_count": 28,
   "metadata": {},
   "outputs": [
    {
     "data": {
      "text/plain": [
       "20-element Array{Tuple{MulticlassPerceptronCore{Float32},MLJBase.CategoricalDecoder{Int64,UInt32}},1}:\n",
       " (MulticlassPerceptronCore{Float32}(Float32[0.55092514 0.6111343 … 0.20649719 0.4677608; 0.81517005 0.14493835 … 0.39646065 0.5024731; … ; 0.5304966 0.53643095 … 0.41094077 0.31922877; 0.396919 0.7265923 … 0.28136563 0.6685412], Float32[-54.50738, 38.859306, 9.523631, -27.911634, 15.523544, 93.374954, -33.902954, 57.125854, -88.17588, -9.909387], 10, 784, false), MLJBase.CategoricalDecoder{Int64,UInt32}(CategoricalPool{Int64,UInt32}([1,2,3,4,5,6,7,8,9,10]), [2, 4, 6, 7, 3, 1, 8, 9, 10, 5]))       \n",
       " (MulticlassPerceptronCore{Float32}(Float32[0.57465625 0.8450837 … 0.43707108 0.016412616; 0.9990845 0.9994185 … 0.9308469 0.45611954; … ; 0.44581306 0.23577201 … 0.09314263 0.5423784; 0.6474056 0.4340917 … 0.22253466 0.4615097], Float32[-74.36113, 44.65009, 20.575394, -16.168709, 17.02769, 87.705795, -28.41301, 54.46647, -92.763016, -12.71936], 10, 784, false), MLJBase.CategoricalDecoder{Int64,UInt32}(CategoricalPool{Int64,UInt32}([1,2,3,4,5,6,7,8,9,10]), [2, 4, 6, 7, 3, 1, 8, 9, 10, 5]))        \n",
       " (MulticlassPerceptronCore{Float32}(Float32[0.8024212 0.579007 … 0.40756702 0.91544414; 0.054334164 0.5290837 … 0.6990446 0.36708713; … ; 0.87832344 0.9869113 … 0.80503225 0.9310131; 0.31908154 0.67343307 … 0.5539588 0.78670335], Float32[-52.891743, 39.39607, 17.907825, -23.43527, 4.6685677, 94.54258, -22.50025, 48.055637, -87.00685, -18.73651], 10, 784, false), MLJBase.CategoricalDecoder{Int64,UInt32}(CategoricalPool{Int64,UInt32}([1,2,3,4,5,6,7,8,9,10]), [2, 4, 6, 7, 3, 1, 8, 9, 10, 5]))        \n",
       " (MulticlassPerceptronCore{Float32}(Float32[0.2806059 0.09647441 … 0.85537004 0.9222771; 0.67595637 0.61698484 … 0.52475667 0.014582753; … ; 0.15800476 0.3186468 … 0.50331163 0.5718851; 0.12018669 0.5372299 … 0.47178495 0.27546751], Float32[-67.773346, 34.571518, 19.832764, -16.610119, 7.8996344, 91.053246, -30.31134, 61.66714, -90.4784, -9.851224], 10, 784, false), MLJBase.CategoricalDecoder{Int64,UInt32}(CategoricalPool{Int64,UInt32}([1,2,3,4,5,6,7,8,9,10]), [2, 4, 6, 7, 3, 1, 8, 9, 10, 5]))    \n",
       " (MulticlassPerceptronCore{Float32}(Float32[0.17538393 0.982393 … 0.31367028 0.819183; 0.38753915 0.9272977 … 0.98447204 0.8234149; … ; 0.04260719 0.08375335 … 0.61666036 0.2139759; 0.7172427 0.21649086 … 0.477816 0.33232868], Float32[-68.41445, 32.339993, 27.705612, -16.677895, 4.2374277, 102.17693, -30.878357, 55.762257, -86.886246, -19.365107], 10, 784, false), MLJBase.CategoricalDecoder{Int64,UInt32}(CategoricalPool{Int64,UInt32}([1,2,3,4,5,6,7,8,9,10]), [2, 4, 6, 7, 3, 1, 8, 9, 10, 5]))      \n",
       " (MulticlassPerceptronCore{Float32}(Float32[0.6690273 0.7518139 … 0.9478245 0.93529; 0.5773182 0.58976626 … 0.8585465 0.7147689; … ; 0.33784568 0.22533834 … 0.8370178 0.8891964; 0.17915666 0.6133181 … 0.6530478 0.3070004], Float32[-77.87973, 41.37649, 15.203419, -11.317055, 16.019726, 101.04043, -33.051823, 59.390015, -90.54125, -20.240131], 10, 784, false), MLJBase.CategoricalDecoder{Int64,UInt32}(CategoricalPool{Int64,UInt32}([1,2,3,4,5,6,7,8,9,10]), [2, 4, 6, 7, 3, 1, 8, 9, 10, 5]))            \n",
       " (MulticlassPerceptronCore{Float32}(Float32[0.53232133 0.43278134 … 0.18888485 0.15883887; 0.20588958 0.8792286 … 0.94395053 0.26999152; … ; 0.0013563633 0.57225394 … 0.63155293 0.18599558; 0.8198701 0.99886715 … 0.4759544 0.9895953], Float32[-85.76821, 38.450653, 17.326534, -15.457193, 10.131672, 105.63314, -26.90452, 52.62464, -82.4018, -13.634795], 10, 784, false), MLJBase.CategoricalDecoder{Int64,UInt32}(CategoricalPool{Int64,UInt32}([1,2,3,4,5,6,7,8,9,10]), [2, 4, 6, 7, 3, 1, 8, 9, 10, 5]))  \n",
       " (MulticlassPerceptronCore{Float32}(Float32[0.9119884 0.43455362 … 0.44259 0.93982875; 0.727798 0.8986505 … 0.07762587 0.6515199; … ; 0.010884047 0.62537396 … 0.77798295 0.37307608; 0.59480107 0.29378176 … 0.96314204 0.7733315], Float32[-68.73017, 29.95375, 30.945961, -18.866081, 14.996051, 88.64591, -27.554708, 54.0629, -88.612724, -14.840824], 10, 784, false), MLJBase.CategoricalDecoder{Int64,UInt32}(CategoricalPool{Int64,UInt32}([1,2,3,4,5,6,7,8,9,10]), [2, 4, 6, 7, 3, 1, 8, 9, 10, 5]))        \n",
       " (MulticlassPerceptronCore{Float32}(Float32[0.5477865 0.58012664 … 0.36346066 0.5574341; 0.100337744 0.9188924 … 0.63213 0.38316536; … ; 0.8298508 0.09089482 … 0.31415284 0.82616794; 0.73096836 0.03531432 … 0.84451663 0.86371136], Float32[-76.43924, 27.260836, 28.70279, -16.743855, 13.885378, 92.65847, -24.603983, 52.431313, -79.50545, -17.646376], 10, 784, false), MLJBase.CategoricalDecoder{Int64,UInt32}(CategoricalPool{Int64,UInt32}([1,2,3,4,5,6,7,8,9,10]), [2, 4, 6, 7, 3, 1, 8, 9, 10, 5]))     \n",
       " (MulticlassPerceptronCore{Float32}(Float32[0.26956987 0.8115655 … 0.44606638 0.42676532; 0.22496903 0.8580259 … 0.38824904 0.15384221; … ; 0.5343996 0.05217302 … 0.4979502 0.2022947; 0.49894786 0.14476109 … 0.69851387 0.2885002], Float32[-68.694885, 30.898697, 19.91645, -26.462208, 15.177971, 95.55296, -17.048304, 52.813602, -85.86253, -16.29166], 10, 784, false), MLJBase.CategoricalDecoder{Int64,UInt32}(CategoricalPool{Int64,UInt32}([1,2,3,4,5,6,7,8,9,10]), [2, 4, 6, 7, 3, 1, 8, 9, 10, 5]))     \n",
       " (MulticlassPerceptronCore{Float32}(Float32[0.20346594 0.9316988 … 0.83054113 0.54486346; 0.44017875 0.57012165 … 0.0927372 0.13362968; … ; 0.6700932 0.592057 … 0.17620015 0.23410654; 0.30986297 0.37076676 … 0.29001808 0.19563258], Float32[-60.2191, 46.378185, 7.8444867, -16.113647, 11.676795, 91.99597, -34.01194, 50.170834, -82.49374, -15.227801], 10, 784, false), MLJBase.CategoricalDecoder{Int64,UInt32}(CategoricalPool{Int64,UInt32}([1,2,3,4,5,6,7,8,9,10]), [2, 4, 6, 7, 3, 1, 8, 9, 10, 5]))     \n",
       " (MulticlassPerceptronCore{Float32}(Float32[0.87981224 0.28332627 … 0.033344746 0.5730556; 0.08353078 0.26555693 … 0.0039880276 0.9011425; … ; 0.3912083 0.43280482 … 0.46090424 0.062126875; 0.5316285 0.31947768 … 0.46907032 0.68698597], Float32[-68.71783, 36.772213, 12.846947, -16.950462, 5.696224, 100.68576, -32.365948, 60.398617, -90.32888, -8.03681], 10, 784, false), MLJBase.CategoricalDecoder{Int64,UInt32}(CategoricalPool{Int64,UInt32}([1,2,3,4,5,6,7,8,9,10]), [2, 4, 6, 7, 3, 1, 8, 9, 10, 5]))\n",
       " (MulticlassPerceptronCore{Float32}(Float32[0.28943062 0.8866528 … 0.58333373 0.85650563; 0.026502967 0.8264271 … 0.29751062 0.13691843; … ; 0.8838538 0.5949261 … 0.442294 0.5639912; 0.6503234 0.5023552 … 0.36688483 0.4717164], Float32[-67.63284, 43.872654, 15.211727, -13.03329, 4.9288654, 96.50579, -24.154402, 55.17719, -85.65798, -25.217981], 10, 784, false), MLJBase.CategoricalDecoder{Int64,UInt32}(CategoricalPool{Int64,UInt32}([1,2,3,4,5,6,7,8,9,10]), [2, 4, 6, 7, 3, 1, 8, 9, 10, 5]))         \n",
       " (MulticlassPerceptronCore{Float32}(Float32[0.6663811 0.85385597 … 0.14365852 0.8692162; 0.5390569 0.44560635 … 0.094432116 0.48565447; … ; 0.9293921 0.42812502 … 0.21953857 0.29513586; 0.82895637 0.299276 … 0.7322633 0.14032269], Float32[-65.95144, 35.11789, 18.14071, -13.374281, 1.8110728, 101.2059, -23.932537, 48.555374, -80.304825, -21.267965], 10, 784, false), MLJBase.CategoricalDecoder{Int64,UInt32}(CategoricalPool{Int64,UInt32}([1,2,3,4,5,6,7,8,9,10]), [2, 4, 6, 7, 3, 1, 8, 9, 10, 5]))     \n",
       " (MulticlassPerceptronCore{Float32}(Float32[0.24065602 0.507867 … 0.86710715 0.9694816; 0.89822495 0.6321871 … 0.3064747 0.3777343; … ; 0.032936573 0.2102741 … 0.72377217 0.4832182; 0.03002727 0.52114713 … 0.18519759 0.4895743], Float32[-80.37469, 33.904213, 25.648369, -23.081915, 20.29507, 83.466286, -27.537594, 59.292027, -85.04262, -6.569152], 10, 784, false), MLJBase.CategoricalDecoder{Int64,UInt32}(CategoricalPool{Int64,UInt32}([1,2,3,4,5,6,7,8,9,10]), [2, 4, 6, 7, 3, 1, 8, 9, 10, 5]))       \n",
       " (MulticlassPerceptronCore{Float32}(Float32[0.4989537 0.010655165 … 0.66668 0.35707998; 0.9547591 0.27541888 … 0.41605246 0.3210764; … ; 0.5109538 0.7852044 … 0.10690403 0.43480814; 0.04838252 0.052244544 … 0.8669894 0.59588146], Float32[-71.06045, 31.977858, 22.223509, -20.358116, 10.185732, 93.8338, -21.580055, 59.5081, -90.10414, -14.626244], 10, 784, false), MLJBase.CategoricalDecoder{Int64,UInt32}(CategoricalPool{Int64,UInt32}([1,2,3,4,5,6,7,8,9,10]), [2, 4, 6, 7, 3, 1, 8, 9, 10, 5]))        \n",
       " (MulticlassPerceptronCore{Float32}(Float32[0.5971606 0.14573002 … 0.41038048 0.36468983; 0.43283975 0.80938387 … 0.99467826 0.077536464; … ; 0.1861825 0.6551907 … 0.32776606 0.2884004; 0.08827722 0.08430147 … 0.038385034 0.67859375], Float32[-86.22618, 38.89278, 17.107952, -25.65144, 18.0519, 94.83371, -27.9414, 64.009735, -78.4207, -14.656284], 10, 784, false), MLJBase.CategoricalDecoder{Int64,UInt32}(CategoricalPool{Int64,UInt32}([1,2,3,4,5,6,7,8,9,10]), [2, 4, 6, 7, 3, 1, 8, 9, 10, 5]))       \n",
       " (MulticlassPerceptronCore{Float32}(Float32[0.83534646 0.048902273 … 0.88731277 0.78772116; 0.5335705 0.71789753 … 0.036259174 0.9968841; … ; 0.56224215 0.39675677 … 0.33237493 0.58104455; 0.95917296 0.713204 … 0.9661714 0.54510367], Float32[-69.15843, 43.540432, 14.462946, -23.321083, 14.830074, 99.61803, -28.456116, 55.57946, -89.79734, -17.29785], 10, 784, false), MLJBase.CategoricalDecoder{Int64,UInt32}(CategoricalPool{Int64,UInt32}([1,2,3,4,5,6,7,8,9,10]), [2, 4, 6, 7, 3, 1, 8, 9, 10, 5]))   \n",
       " (MulticlassPerceptronCore{Float32}(Float32[0.6637759 0.44864237 … 0.39618325 0.14428556; 0.33276176 0.53415394 … 0.18265486 0.69778347; … ; 0.6407585 0.94459546 … 0.88254905 0.5731807; 0.031999946 0.8239471 … 0.5912849 0.29993546], Float32[-57.988605, 36.44729, 19.75689, -17.696007, 12.044806, 97.66024, -40.6152, 49.712082, -83.55786, -15.763655], 10, 784, false), MLJBase.CategoricalDecoder{Int64,UInt32}(CategoricalPool{Int64,UInt32}([1,2,3,4,5,6,7,8,9,10]), [2, 4, 6, 7, 3, 1, 8, 9, 10, 5]))     \n",
       " (MulticlassPerceptronCore{Float32}(Float32[0.3356259 0.5301937 … 0.909781 0.7728071; 0.9477565 0.5627899 … 0.754943 0.90043557; … ; 0.21072757 0.23820722 … 0.6350173 0.97903585; 0.7018064 0.30863297 … 0.75338674 0.9622003], Float32[-58.540794, 37.84927, 19.259554, -34.133194, 8.865989, 85.70378, -16.055756, 68.47337, -96.16266, -15.259565], 10, 784, false), MLJBase.CategoricalDecoder{Int64,UInt32}(CategoricalPool{Int64,UInt32}([1,2,3,4,5,6,7,8,9,10]), [2, 4, 6, 7, 3, 1, 8, 9, 10, 5]))            "
      ]
     },
     "execution_count": 28,
     "metadata": {},
     "output_type": "execute_result"
    }
   ],
   "source": [
    "ensemble_machine.fitresult.ensemble"
   ]
  },
  {
   "cell_type": "markdown",
   "metadata": {},
   "source": [
    "We can see that bagging does not improve a lot the results for the MulticlassPerceptron"
   ]
  },
  {
   "cell_type": "code",
   "execution_count": 29,
   "metadata": {},
   "outputs": [
    {
     "name": "stdout",
     "output_type": "stream",
     "text": [
      "\u001b[KEpoch: 50 \t Accuracy: 0.898"
     ]
    },
    {
     "data": {
      "text/plain": [
       "0.9266"
      ]
     },
     "execution_count": 29,
     "metadata": {},
     "output_type": "execute_result"
    }
   ],
   "source": [
    "p = MulticlassPerceptronClassifier(n_epochs=50; f_average_weights=true)\n",
    "fitresult, _ , _  = fit(p, 1, train_x, train_y);\n",
    "y_test_preds = MLJBase.predict(fitresult, test_x);\n",
    "mean(y_test_preds .== test_y)"
   ]
  },
  {
   "cell_type": "code",
   "execution_count": null,
   "metadata": {},
   "outputs": [],
   "source": []
  },
  {
   "cell_type": "markdown",
   "metadata": {},
   "source": [
    "### Composing Models"
   ]
  },
  {
   "cell_type": "code",
   "execution_count": null,
   "metadata": {},
   "outputs": [],
   "source": []
  }
 ],
 "metadata": {
  "kernelspec": {
   "display_name": "Julia 1.3.0",
   "language": "julia",
   "name": "julia-1.3"
  },
  "language_info": {
   "file_extension": ".jl",
   "mimetype": "application/julia",
   "name": "julia",
   "version": "1.3.0"
  },
  "toc": {
   "base_numbering": 1,
   "nav_menu": {},
   "number_sections": true,
   "sideBar": true,
   "skip_h1_title": false,
   "title_cell": "Table of Contents",
   "title_sidebar": "Contents",
   "toc_cell": false,
   "toc_position": {},
   "toc_section_display": true,
   "toc_window_display": false
  }
 },
 "nbformat": 4,
 "nbformat_minor": 2
}
